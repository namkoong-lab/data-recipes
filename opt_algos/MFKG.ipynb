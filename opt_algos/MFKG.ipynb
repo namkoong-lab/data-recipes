{
  "cells": [
    {
      "cell_type": "markdown",
      "metadata": {},
      "source": [
        "## Multi-Fidelity BO with Discrete Fidelities using KG\n",
        "\n",
        "In this tutorial, we show how to do multi-fidelity BO with discrete fidelities based on [1], where each fidelity is a different \"information source.\" This tutorial uses the same setup as the [continuous multi-fidelity BO tutorial](https://botorch.org/tutorials/multi_fidelity_bo), except with discrete fidelity parameters that are interpreted as multiple information sources.\n",
        "\n",
        "We use a GP model with a single task that models the design and fidelity parameters jointly. In some cases, where there is not a natural ordering in the fidelity space, it may be more appropriate to use a multi-task model (with, say, an ICM kernel). We will provide a tutorial once this functionality is in place.\n",
        "\n",
        "[1] [M. Poloczek, J. Wang, P.I. Frazier. Multi-Information Source Optimization. NeurIPS, 2017](https://papers.nips.cc/paper/2017/file/df1f1d20ee86704251795841e6a9405a-Paper.pdf)\n",
        "\n",
        "[2] [J. Wu, S. Toscano-Palmerin, P.I. Frazier, A.G. Wilson. Practical Multi-fidelity Bayesian Optimization for Hyperparameter Tuning. Conference on Uncertainty in Artificial Intelligence (UAI), 2019](https://arxiv.org/pdf/1903.04703.pdf)"
      ]
    },
    {
      "cell_type": "markdown",
      "metadata": {},
      "source": [
        "### Set dtype and device"
      ]
    },
    {
      "cell_type": "code",
      "execution_count": 62,
      "metadata": {},
      "outputs": [],
      "source": [
        "import os\n",
        "import torch\n",
        "\n",
        "\n",
        "tkwargs = {\n",
        "    \"dtype\": torch.double,\n",
        "    \"device\": torch.device(\"cuda\" if torch.cuda.is_available() else \"cpu\"),\n",
        "}\n",
        "SMOKE_TEST = os.environ.get(\"SMOKE_TEST\")"
      ]
    },
    {
      "cell_type": "markdown",
      "metadata": {},
      "source": [
        "### Problem setup\n",
        "\n",
        "We'll consider the Augmented Hartmann multi-fidelity synthetic test problem. This function is a version of the Hartmann6 test function with an additional dimension representing the fidelity parameter; details are in [2]. The function takes the form $f(x,s)$ where $x \\in [0,1]^6$ and $s \\in \\{0.5, 0.75, 1\\}$. The target fidelity is 1.0, which means that our goal is to solve $\\max_x f(x,1.0)$ by making use of cheaper evaluations $f(x,s)$ for $s \\in \\{0.5, 0.75\\}$. In this example, we'll assume that the cost function takes the form $5.0 + s$, illustrating a situation where the fixed cost is $5.0$."
      ]
    },
    {
      "cell_type": "code",
      "execution_count": 63,
      "metadata": {},
      "outputs": [
        {
          "name": "stdout",
          "output_type": "stream",
          "text": [
            "Instantiating benchmark with y=metric Stack Exchange Cross Entropy\n",
            "Instantiating benchmark with y=metric Stack Exchange Cross Entropy\n"
          ]
        },
        {
          "name": "stderr",
          "output_type": "stream",
          "text": [
            "/Users/andrewsiah/Documents/research/data-recipes/opt_algos/data_model.py:31: FutureWarning: You are using `torch.load` with `weights_only=False` (the current default value), which uses the default pickle module implicitly. It is possible to construct malicious pickle data which will execute arbitrary code during unpickling (See https://github.com/pytorch/pytorch/blob/main/SECURITY.md#untrusted-models for more details). In a future release, the default value for `weights_only` will be flipped to `True`. This limits the functions that could be executed during unpickling. Arbitrary objects will no longer be allowed to be loaded via this mode unless they are explicitly allowlisted by the user via `torch.serialization.add_safe_globals`. We recommend you start setting `weights_only=True` for any use case where you don't have full control of the loaded file. Please open an issue on GitHub for any issues related to this experimental feature.\n",
            "  checkpoint = torch.load(checkpoint_path, map_location=device)\n"
          ]
        }
      ],
      "source": [
        "from botorch.test_functions.multi_fidelity import AugmentedHartmann\n",
        "from benchmarks import DataModelBenchmark\n",
        "\n",
        "\n",
        "# problem = AugmentedHartmann(negate=True).to(**tkwargs)\n",
        "# fidelities = torch.tensor([0.5, 0.75, 1.0], **tkwargs)\n",
        "\n",
        "METRIC_NAMES = {\n",
        "    0: \"Train Cross Entropy\",\n",
        "    1: \"Common Crawl Cross Entropy\",\n",
        "    2: \"C4 Cross Entropy\",\n",
        "    3: \"Wikipedia Cross Entropy\",\n",
        "    4: \"Stack Exchange Cross Entropy\",  # Current default\n",
        "    5: \"Github Cross Entropy\",\n",
        "    6: \"ArXiv Cross Entropy\",\n",
        "    7: \"Book Cross Entropy\",\n",
        "    8: \"Hellaswag Accuracy\",\n",
        "    9: \"PIQA Accuracy\",\n",
        "    10: \"ARC Easy Accuracy\"\n",
        "}\n",
        "\n",
        "metric_num = 4\n",
        "metric_name = METRIC_NAMES[metric_num]\n",
        "print(f\"Instantiating benchmark with y=metric {metric_name}\")\n",
        "\n",
        "problem = DataModelBenchmark(metric_index=metric_num)  # 3 for Wikipedia Cross Entropy\n",
        "fidelities = torch.tensor([100.0, 150.0, 196.0], **tkwargs)"
      ]
    },
    {
      "cell_type": "markdown",
      "metadata": {},
      "source": [
        "#### Model initialization\n",
        "\n",
        "We use a `SingleTaskMultiFidelityGP` as the surrogate model, which uses a kernel from [2] that is well-suited for multi-fidelity applications. The `SingleTaskMultiFidelityGP` models the design and fidelity parameters jointly, so its domain is $[0,1]^7$."
      ]
    },
    {
      "cell_type": "code",
      "execution_count": 64,
      "metadata": {},
      "outputs": [],
      "source": [
        "from botorch.models.gp_regression_fidelity import SingleTaskMultiFidelityGP\n",
        "from botorch.models.transforms.outcome import Standardize\n",
        "from gpytorch.mlls.exact_marginal_log_likelihood import ExactMarginalLogLikelihood\n",
        "\n",
        "\n",
        "def generate_initial_data(n=16):\n",
        "    # generate training data\n",
        "    train_x = torch.rand(n, 5, **tkwargs) * 6.0 - 3.0  # Scale to [-3.0, 3.0]\n",
        "    train_f = fidelities[torch.randint(3, (n, 1))]\n",
        "    train_x_full = torch.cat((train_x, train_f), dim=1)\n",
        "    # Call problem.func instead of problem directly, converting fidelity to int\n",
        "    train_obj = -torch.tensor([problem.func(int(z.item()), x.tolist())[-1][1] for x, z in zip(train_x, train_f)], **tkwargs).unsqueeze(-1)\n",
        "    \n",
        "    return train_x_full, train_obj\n",
        "\n",
        "\n",
        "def initialize_model(train_x, train_obj):\n",
        "    model = SingleTaskMultiFidelityGP(\n",
        "        train_x, train_obj, outcome_transform=Standardize(m=1), data_fidelities=[5]\n",
        "    )\n",
        "    mll = ExactMarginalLogLikelihood(model.likelihood, model)\n",
        "    return mll, model"
      ]
    },
    {
      "cell_type": "markdown",
      "metadata": {
        "originalKey": "8add142b-e32b-4f27-8f22-4386879512f6",
        "showInput": false
      },
      "source": [
        "#### Define a helper function to construct the MFKG acquisition function\n",
        "The helper function illustrates how one can initialize an $q$MFKG acquisition function. In this example, we assume that the affine cost is known. We then use the notion of a `CostAwareUtility` in BoTorch to scalarize the \"competing objectives\" of information gain and cost. The MFKG acquisition function optimizes the ratio of information gain to cost, which is captured by the `InverseCostWeightedUtility`.\n",
        "\n",
        "In order for MFKG to evaluate the information gain, it uses the model to predict the function value at the highest fidelity after conditioning on the observation. This is handled by the `project` argument, which specifies how to transform a tensor `X` to its target fidelity. We use a default helper function called `project_to_target_fidelity` to achieve this.\n",
        "\n",
        "An important point to keep in mind: in the case of standard KG, one can ignore the current value and simply optimize the expected maximum posterior mean of the next stage. However, for MFKG, since the goal is optimize information *gain* per cost, it is important to first compute the current value (i.e., maximum of the posterior mean at the target fidelity). To accomplish this, we use a `FixedFeatureAcquisitionFunction` on top of a `PosteriorMean`."
      ]
    },
    {
      "cell_type": "code",
      "execution_count": 65,
      "metadata": {},
      "outputs": [],
      "source": [
        "# Import required BoTorch modules\n",
        "from botorch import fit_gpytorch_mll\n",
        "from botorch.models.cost import AffineFidelityCostModel\n",
        "from botorch.acquisition.cost_aware import InverseCostWeightedUtility\n",
        "from botorch.acquisition import PosteriorMean\n",
        "from botorch.acquisition.knowledge_gradient import qMultiFidelityKnowledgeGradient\n",
        "from botorch.acquisition.fixed_feature import FixedFeatureAcquisitionFunction\n",
        "from botorch.optim.optimize import optimize_acqf\n",
        "from botorch.acquisition.utils import project_to_target_fidelity\n",
        "\n",
        "# # Define bounds for the optimization space - creates a tensor with lower and upper bounds\n",
        "# bounds = torch.tensor([[0.0] * problem.dim, [1.0] * problem.dim], **tkwargs)\n",
        "bounds = torch.tensor([\n",
        "    [-3.0, -3.0, -3.0, -3.0, -3.0, 1.0],    # lower bounds: 5 input dims + fidelity\n",
        "    [3.0, 3.0, 3.0, 3.0, 3.0, 196.0]        # upper bounds: 5 input dims + fidelity\n",
        "], **tkwargs)\n",
        "\n",
        "# # Specify that dimension 6 (the fidelity parameter) should be set to 1.0 for final evaluation\n",
        "# target_fidelities = {6: 1.0}\n",
        "\n",
        "# Specify that dimension 5 (the fidelity parameter) should be set to 196.0 for final evaluation\n",
        "target_fidelities = {5: 196.0}\n",
        "\n",
        "\n",
        "# Create cost model that assigns weight of 1.0 to fidelity dimension and adds fixed cost of 5.0\n",
        "cost_model = AffineFidelityCostModel(fidelity_weights={5: 1.0}, fixed_cost=1000.0)\n",
        "\n",
        "# Create utility function that considers both information gain and cost\n",
        "cost_aware_utility = InverseCostWeightedUtility(cost_model=cost_model)\n",
        "\n",
        "# Helper function to project points to target fidelity\n",
        "def project(X):\n",
        "    return project_to_target_fidelity(X=X, target_fidelities=target_fidelities)\n",
        "\n",
        "\n",
        "# Function to create Multi-Fidelity Knowledge Gradient acquisition function\n",
        "def get_mfkg(model):\n",
        "    # First get current best value at highest fidelity\n",
        "    # Create acquisition function that fixes fidelity to 1.0 and looks at posterior mean\n",
        "    curr_val_acqf = FixedFeatureAcquisitionFunction(\n",
        "        acq_function=PosteriorMean(model),\n",
        "        d=6,  # Total dimensions including fidelity (5 + 1)\n",
        "        columns=[5],  # Fix fidelity dimension\n",
        "        values=[196.0],  # Fix fidelity to 196.0\n",
        "    )\n",
        "\n",
        "    # Optimize to find current best value at highest fidelity  [']\n",
        "    _, current_value = optimize_acqf(\n",
        "        acq_function=curr_val_acqf,\n",
        "        bounds=bounds[:, :-1],  # Exclude fidelity dimension\n",
        "        q=1,\n",
        "        num_restarts=10 if not SMOKE_TEST else 2,\n",
        "        raw_samples=1024 if not SMOKE_TEST else 4,\n",
        "        options={\"batch_limit\": 10, \"maxiter\": 200},\n",
        "    )\n",
        "\n",
        "    # Create and return MFKG acquisition function\n",
        "    return qMultiFidelityKnowledgeGradient(\n",
        "        model=model,\n",
        "        num_fantasies=128 if not SMOKE_TEST else 2,  # Number of fantasy points\n",
        "        current_value=current_value,  # Pass in current best value\n",
        "        cost_aware_utility=cost_aware_utility,  # Consider cost when making decisions\n",
        "        project=project,  # How to project to target fidelity\n",
        "    )\n"
      ]
    },
    {
      "cell_type": "markdown",
      "metadata": {},
      "source": [
        "#### Define a helper function that performs the essential BO step\n",
        "This helper function optimizes the acquisition function and returns the batch $\\{x_1, x_2, \\ldots x_q\\}$ along with the observed function values. The function `optimize_acqf_mixed` sequentially optimizes the acquisition function over $x$ for each value of the fidelity $s \\in \\{0, 0.5, 1.0\\}$."
      ]
    },
    {
      "cell_type": "code",
      "execution_count": 66,
      "metadata": {},
      "outputs": [],
      "source": [
        "from botorch.optim.optimize import optimize_acqf_mixed\n",
        "\n",
        "\n",
        "torch.set_printoptions(precision=3, sci_mode=False)\n",
        "\n",
        "NUM_RESTARTS = 5 if not SMOKE_TEST else 2\n",
        "RAW_SAMPLES = 128 if not SMOKE_TEST else 4\n",
        "BATCH_SIZE = 4\n",
        "\n",
        "\n",
        "def optimize_mfkg_and_get_observation(mfkg_acqf):\n",
        "    \"\"\"Optimizes MFKG and returns a new candidate, observation, and cost.\"\"\"\n",
        "\n",
        "    candidates, _ = optimize_acqf_mixed(\n",
        "        acq_function=mfkg_acqf,\n",
        "        bounds=bounds,\n",
        "        fixed_features_list=[ {5: 100.0}, {5: 150.0}, {5: 196.0}],\n",
        "        q=BATCH_SIZE,\n",
        "        num_restarts=NUM_RESTARTS,\n",
        "        raw_samples=RAW_SAMPLES,\n",
        "        options={\"batch_limit\": 5, \"maxiter\": 200},\n",
        "    )\n",
        "\n",
        "    # observe new values\n",
        "    cost = cost_model(candidates).sum()\n",
        "    new_x = candidates.detach()\n",
        "    # Call problem.func instead of problem directly, converting fidelity to int\n",
        "    raw_obj = torch.tensor([problem.func(int(z.item()), x.tolist())[-1][1] for x, z in zip(new_x[:, :-1], new_x[:, -1])], **tkwargs).unsqueeze(-1)\n",
        "    new_obj = -raw_obj\n",
        "    print(f\"candidates:\\n{new_x}\\n\")\n",
        "    print(f\"observations:\\n{new_obj}\\n\\n\")\n",
        "    return new_x, new_obj, cost"
      ]
    },
    {
      "cell_type": "markdown",
      "metadata": {},
      "source": [
        "### Perform a few steps of multi-fidelity BO\n",
        "First, let's generate some initial random data and fit a surrogate model."
      ]
    },
    {
      "cell_type": "code",
      "execution_count": 67,
      "metadata": {},
      "outputs": [
        {
          "name": "stdout",
          "output_type": "stream",
          "text": [
            "train_x:\n",
            "tensor([[    -1.617,     -2.035,      2.579,     -1.224,      1.570,    196.000],\n",
            "        [    -0.188,      0.836,     -1.416,     -2.534,     -2.414,    100.000],\n",
            "        [     1.909,      2.988,      2.160,      0.208,     -1.540,    196.000],\n",
            "        [    -1.533,     -0.664,     -0.900,      1.338,      1.165,    196.000],\n",
            "        [    -1.193,     -2.346,     -2.851,     -0.089,      1.068,    100.000],\n",
            "        [     0.489,      0.180,     -1.901,      1.042,     -2.089,    196.000],\n",
            "        [     2.539,     -1.407,     -2.388,     -1.174,     -0.867,    150.000],\n",
            "        [     0.450,      1.507,     -0.587,     -0.433,      0.437,    196.000],\n",
            "        [     0.212,     -2.629,      1.344,      2.128,      1.531,    196.000],\n",
            "        [    -2.351,      2.295,      1.568,     -2.880,     -1.104,    100.000],\n",
            "        [    -2.162,      2.715,     -0.611,      0.113,     -2.301,    100.000],\n",
            "        [    -1.440,     -0.769,     -2.892,      0.611,     -2.544,    150.000],\n",
            "        [     1.555,      2.994,     -2.087,     -1.224,      0.743,    150.000],\n",
            "        [    -1.096,     -0.572,     -2.447,     -0.712,      0.964,    196.000],\n",
            "        [     0.183,     -2.795,     -0.375,     -1.544,      0.314,    196.000],\n",
            "        [     2.896,     -2.086,     -2.710,      1.529,      0.924,    100.000]],\n",
            "       dtype=torch.float64)\n",
            "\n",
            "train_obj:\n",
            "tensor([[-0.897],\n",
            "        [-0.903],\n",
            "        [-0.849],\n",
            "        [-0.912],\n",
            "        [-1.009],\n",
            "        [-0.907],\n",
            "        [-1.130],\n",
            "        [-0.868],\n",
            "        [-0.942],\n",
            "        [-0.864],\n",
            "        [-0.869],\n",
            "        [-0.913],\n",
            "        [-0.869],\n",
            "        [-0.876],\n",
            "        [-0.943],\n",
            "        [-1.131]], dtype=torch.float64)\n",
            "\n"
          ]
        }
      ],
      "source": [
        "feature_names = {\n",
        "    0: \"RedPajamaWikipedia\",\n",
        "    1: \"RedPajamaStackExchange\",\n",
        "    2: \"RedPajamaGithub\",\n",
        "    3: \"RedPajamaArXiv\",\n",
        "    4: \"RedPajamaBook\",\n",
        "}\n",
        "\n",
        "train_x, train_obj = generate_initial_data(n=16)\n",
        "print(f\"train_x:\\n{train_x}\\n\")\n",
        "print(f\"train_obj:\\n{train_obj}\\n\")\n"
      ]
    },
    {
      "cell_type": "code",
      "execution_count": 68,
      "metadata": {},
      "outputs": [
        {
          "name": "stdout",
          "output_type": "stream",
          "text": [
            "problem.metric_index:\n",
            "4\n",
            "\n"
          ]
        }
      ],
      "source": [
        "print(f\"problem.metric_index:\\n{problem.metric_index}\\n\")\n"
      ]
    },
    {
      "cell_type": "markdown",
      "metadata": {},
      "source": [
        "We can now use the helper functions above to run a few iterations of BO."
      ]
    },
    {
      "cell_type": "code",
      "execution_count": 69,
      "metadata": {},
      "outputs": [
        {
          "name": "stderr",
          "output_type": "stream",
          "text": [
            "/Users/andrewsiah/Documents/research/data-recipes/.venv/lib/python3.12/site-packages/botorch/models/utils/assorted.py:265: InputDataWarning: Data (input features) is not contained to the unit cube. Please consider min-max scaling the input data.\n",
            "  check_min_max_scaling(\n"
          ]
        },
        {
          "name": "stdout",
          "output_type": "stream",
          "text": [
            "candidates:\n",
            "tensor([[     0.439,     -0.858,     -0.812,      2.012,     -1.869,    196.000],\n",
            "        [     2.654,     -0.035,      1.370,      2.748,      0.602,    100.000],\n",
            "        [    -1.943,      1.067,      1.524,     -1.413,      2.692,    100.000],\n",
            "        [    -1.515,     -1.180,      2.106,      2.201,      2.610,    100.000]],\n",
            "       dtype=torch.float64)\n",
            "\n",
            "observations:\n",
            "tensor([[-0.948],\n",
            "        [-1.063],\n",
            "        [-0.982],\n",
            "        [-0.980]], dtype=torch.float64)\n",
            "\n",
            "\n"
          ]
        },
        {
          "name": "stderr",
          "output_type": "stream",
          "text": [
            "/Users/andrewsiah/Documents/research/data-recipes/.venv/lib/python3.12/site-packages/botorch/models/utils/assorted.py:265: InputDataWarning: Data (input features) is not contained to the unit cube. Please consider min-max scaling the input data.\n",
            "  check_min_max_scaling(\n"
          ]
        },
        {
          "name": "stdout",
          "output_type": "stream",
          "text": [
            "candidates:\n",
            "tensor([[    -2.464,      0.181,      0.400,      1.420,      0.521,    196.000],\n",
            "        [    -2.949,     -1.796,      2.846,      1.102,     -1.038,    196.000],\n",
            "        [     2.241,      1.619,      1.176,     -0.648,     -0.376,    150.000],\n",
            "        [    -0.848,     -0.415,     -2.507,      1.052,     -2.751,    196.000]],\n",
            "       dtype=torch.float64)\n",
            "\n",
            "observations:\n",
            "tensor([[-0.903],\n",
            "        [-0.938],\n",
            "        [-0.914],\n",
            "        [-0.897]], dtype=torch.float64)\n",
            "\n",
            "\n"
          ]
        },
        {
          "name": "stderr",
          "output_type": "stream",
          "text": [
            "/Users/andrewsiah/Documents/research/data-recipes/.venv/lib/python3.12/site-packages/botorch/models/utils/assorted.py:265: InputDataWarning: Data (input features) is not contained to the unit cube. Please consider min-max scaling the input data.\n",
            "  check_min_max_scaling(\n"
          ]
        },
        {
          "name": "stdout",
          "output_type": "stream",
          "text": [
            "candidates:\n",
            "tensor([[  0.907,   0.654,   1.169,  -2.620,   1.503, 100.000],\n",
            "        [  2.492,  -0.491,  -2.384,   1.324,  -1.862, 196.000],\n",
            "        [  1.159,  -0.811,  -2.102,   1.590,  -1.588, 100.000],\n",
            "        [  2.950,  -1.808,  -2.806,  -2.380,  -2.468, 100.000]],\n",
            "       dtype=torch.float64)\n",
            "\n",
            "observations:\n",
            "tensor([[-0.953],\n",
            "        [-1.083],\n",
            "        [-1.060],\n",
            "        [-1.139]], dtype=torch.float64)\n",
            "\n",
            "\n"
          ]
        }
      ],
      "source": [
        "cumulative_cost = 0.0\n",
        "N_ITER = 3 if not SMOKE_TEST else 1\n",
        "\n",
        "for i in range(N_ITER):\n",
        "    mll, model = initialize_model(train_x, train_obj)\n",
        "    fit_gpytorch_mll(mll)\n",
        "    mfkg_acqf = get_mfkg(model)\n",
        "    new_x, new_obj, cost = optimize_mfkg_and_get_observation(mfkg_acqf)\n",
        "    train_x = torch.cat([train_x, new_x])\n",
        "    train_obj = torch.cat([train_obj, new_obj])\n",
        "    cumulative_cost += cost"
      ]
    },
    {
      "cell_type": "markdown",
      "metadata": {},
      "source": [
        "### Make a final recommendation\n",
        "In multi-fidelity BO, there are usually fewer observations of the function at the target fidelity, so it is important to use a recommendation function that uses the correct fidelity. Here, we maximize the posterior mean with the fidelity dimension fixed to the target fidelity of 1.0."
      ]
    },
    {
      "cell_type": "code",
      "execution_count": 70,
      "metadata": {},
      "outputs": [],
      "source": [
        "def get_recommendation(model):\n",
        "    feature_names = {\n",
        "        0: \"RedPajamaWikipedia\",\n",
        "        1: \"RedPajamaStackExchange\",\n",
        "        2: \"RedPajamaGithub\",\n",
        "        3: \"RedPajamaArXiv\",\n",
        "        4: \"RedPajamaBook\",\n",
        "    }\n",
        "\n",
        "    rec_acqf = FixedFeatureAcquisitionFunction(\n",
        "        acq_function=PosteriorMean(model),\n",
        "        d=6,  # Total dimensions including fidelity (5 + 1)\n",
        "        columns=[5],  # Fix fidelity dimension\n",
        "        values=[196.0],  # Fix fidelity to 196.0\n",
        "    )\n",
        "\n",
        "    final_rec, _ = optimize_acqf(\n",
        "        acq_function=rec_acqf,\n",
        "        bounds=bounds[:, :-1],\n",
        "        q=1,\n",
        "        num_restarts=10,\n",
        "        raw_samples=512,\n",
        "        options={\"batch_limit\": 5, \"maxiter\": 200},\n",
        "    )\n",
        "\n",
        "    final_rec = rec_acqf._construct_X_full(final_rec)\n",
        "\n",
        "    # Get raw metric value (not negated)\n",
        "    raw_value = problem.func(int(final_rec[0, -1].item()), final_rec[0, :-1].tolist())[-1][1]\n",
        "    print(f\"recommended point:\\n{final_rec}\\n\\ncross entropy value:\\n{raw_value}\")\n",
        "    print(f\"optimized objective value (negated cross entropy):\\n{-raw_value}\")\n",
        "\n",
        "    # Print the proportions for clarity\n",
        "    proportions = torch.exp(final_rec[0, :-1]) / torch.sum(torch.exp(final_rec[0, :-1]))\n",
        "    print(\"\\nData mixture proportions:\")\n",
        "    for i, name in feature_names.items():\n",
        "        print(f\"{name}: {proportions[i]:.3f}\")\n",
        "\n",
        "    return final_rec\n"
      ]
    },
    {
      "cell_type": "code",
      "execution_count": 71,
      "metadata": {},
      "outputs": [
        {
          "name": "stdout",
          "output_type": "stream",
          "text": [
            "For metric of Stack Exchange Cross Entropy, the best point is:\n",
            "recommended point:\n",
            "tensor([[  1.555,   2.994,  -2.087,  -1.224,   0.743, 196.000]],\n",
            "       dtype=torch.float64)\n",
            "\n",
            "cross entropy value:\n",
            "0.8624631532889097\n",
            "optimized objective value (negated cross entropy):\n",
            "-0.8624631532889097\n",
            "\n",
            "Data mixture proportions:\n",
            "RedPajamaWikipedia: 0.174\n",
            "RedPajamaStackExchange: 0.733\n",
            "RedPajamaGithub: 0.005\n",
            "RedPajamaArXiv: 0.011\n",
            "RedPajamaBook: 0.077\n",
            "\n",
            "total cost: 13730.0\n",
            "\n",
            "--------------------------------\n",
            "recommended point:\n",
            "tensor([[  0.450,   1.507,  -0.587,  -0.433,   0.437, 196.000]],\n",
            "       dtype=torch.float64)\n",
            "\n",
            "cross entropy value:\n",
            "0.8681785202766874\n",
            "optimized objective value (negated cross entropy):\n",
            "-0.8681785202766874\n",
            "\n",
            "Data mixture proportions:\n",
            "RedPajamaWikipedia: 0.178\n",
            "RedPajamaStackExchange: 0.511\n",
            "RedPajamaGithub: 0.063\n",
            "RedPajamaArXiv: 0.073\n",
            "RedPajamaBook: 0.175\n",
            "\n",
            "total cost: 13730.0\n",
            "\n"
          ]
        }
      ],
      "source": [
        "input_features = {\n",
        "    0: \"RedPajamaWikipedia\",\n",
        "    1: \"RedPajamaStackExchange\",\n",
        "    2: \"RedPajamaGithub\",\n",
        "    3: \"RedPajamaArXiv\",\n",
        "    4: \"RedPajamaBook\"}\n",
        "\n",
        "print(f\"For metric of {metric_name}, the best point is:\")\n",
        "\n",
        "final_rec = get_recommendation(model)\n",
        "print(f\"\\ntotal cost: {cumulative_cost}\\n\")\n",
        "print(\"--------------------------------\")\n",
        "final_rec = get_recommendation(model)\n",
        "print(f\"\\ntotal cost: {cumulative_cost}\\n\")"
      ]
    },
    {
      "cell_type": "code",
      "execution_count": 72,
      "metadata": {},
      "outputs": [
        {
          "data": {
            "image/png": "[encoded data removed]",
            "text/plain": [
              "<Figure size 1000x1200 with 2 Axes>"
            ]
          },
          "metadata": {},
          "output_type": "display_data"
        },
        {
          "name": "stdout",
          "output_type": "stream",
          "text": [
            "recommended point:\n",
            "tensor([[  1.909,   2.988,   2.160,   0.208,  -1.540, 196.000]],\n",
            "       dtype=torch.float64)\n",
            "\n",
            "cross entropy value:\n",
            "0.8491846028864463\n",
            "optimized objective value (negated cross entropy):\n",
            "-0.8491846028864463\n",
            "\n",
            "Data mixture proportions:\n",
            "RedPajamaWikipedia: 0.184\n",
            "RedPajamaStackExchange: 0.541\n",
            "RedPajamaGithub: 0.236\n",
            "RedPajamaArXiv: 0.034\n",
            "RedPajamaBook: 0.006\n"
          ]
        },
        {
          "data": {
            "image/png": "[encoded data removed]",
            "text/plain": [
              "<Figure size 1000x600 with 1 Axes>"
            ]
          },
          "metadata": {},
          "output_type": "display_data"
        }
      ],
      "source": [
        "import matplotlib.pyplot as plt\n",
        "import seaborn as sns\n",
        "import numpy as np\n",
        "\n",
        "def plot_optimization_history(train_x, train_obj, title=\"Optimization History\"):\n",
        "    \"\"\"Plot the optimization history including objective values and fidelity choices.\"\"\"\n",
        "    fig, (ax1, ax2) = plt.subplots(2, 1, figsize=(10, 12))\n",
        "    \n",
        "    # Plot 1: Objective values over iterations\n",
        "    iterations = np.arange(len(train_obj))\n",
        "    ax1.scatter(iterations, -train_obj.numpy(), c=train_x[:, -1].numpy(), cmap='viridis')\n",
        "    ax1.set_xlabel('Iteration')\n",
        "    ax1.set_ylabel('Cross Entropy')\n",
        "    ax1.set_title('Objective Values Over Iterations\\n(color indicates fidelity)')\n",
        "    \n",
        "    # Plot 2: Fidelity choices\n",
        "    fidelities = train_x[:, -1].numpy()\n",
        "    sns.histplot(data=fidelities, ax=ax2, bins=3)\n",
        "    ax2.set_xlabel('Fidelity')\n",
        "    ax2.set_ylabel('Count')\n",
        "    ax2.set_title('Distribution of Fidelity Choices')\n",
        "    \n",
        "    plt.tight_layout()\n",
        "    plt.show()\n",
        "\n",
        "def plot_final_mixture(proportions, feature_names):\n",
        "    \"\"\"Plot the final mixture proportions as a bar chart.\"\"\"\n",
        "    plt.figure(figsize=(10, 6))\n",
        "    plt.bar(list(feature_names.values()), proportions.numpy())\n",
        "    plt.xticks(rotation=45, ha='right')\n",
        "    plt.ylabel('Proportion')\n",
        "    plt.title('Final Data Mixture Proportions')\n",
        "    plt.tight_layout()\n",
        "    plt.show()\n",
        "\n",
        "# Plot the optimization history\n",
        "plot_optimization_history(train_x, train_obj, title=\"MFKG Optimization History\")\n",
        "\n",
        "# Plot the final mixture proportions\n",
        "final_rec = get_recommendation(model)\n",
        "proportions = torch.exp(final_rec[0, :-1]) / torch.sum(torch.exp(final_rec[0, :-1]))\n",
        "plot_final_mixture(proportions, input_features)"
      ]
    },
    {
      "cell_type": "markdown",
      "metadata": {},
      "source": [
        "### Comparison to standard EI (always use target fidelity)\n",
        "Let's now repeat the same steps using a standard EI acquisition function (note that this is not a rigorous comparison as we are only looking at one trial in order to keep computational requirements low)."
      ]
    },
    {
      "cell_type": "code",
      "execution_count": 73,
      "metadata": {},
      "outputs": [],
      "source": [
        "from botorch.acquisition import qExpectedImprovement\n",
        "\n",
        "\n",
        "def get_ei(model, best_f):\n",
        "    return FixedFeatureAcquisitionFunction(\n",
        "        acq_function=qExpectedImprovement(model=model, best_f=best_f),\n",
        "        d=6,  # Total dimensions including fidelity (5 + 1)\n",
        "        columns=[5],  # Fix fidelity dimension\n",
        "        values=[196.0],  # Fix fidelity to 196.0\n",
        "    )\n",
        "\n",
        "def optimize_ei_and_get_observation(ei_acqf):\n",
        "    \"\"\"Optimizes EI and returns a new candidate, observation, and cost.\"\"\"\n",
        "\n",
        "    candidates, _ = optimize_acqf(\n",
        "        acq_function=ei_acqf,\n",
        "        bounds=bounds[:, :-1],  # Exclude fidelity dimension\n",
        "        q=BATCH_SIZE,\n",
        "        num_restarts=10,\n",
        "        raw_samples=512,\n",
        "        options={\"batch_limit\": 5, \"maxiter\": 200},\n",
        "    )\n",
        "\n",
        "    # add the fidelity parameter\n",
        "    candidates = ei_acqf._construct_X_full(candidates)\n",
        "\n",
        "    # observe new values\n",
        "    cost = cost_model(candidates).sum()\n",
        "    new_x = candidates.detach()\n",
        "    # Call problem.func instead of problem directly, converting fidelity to int\n",
        "    new_obj = torch.tensor([problem.func(int(z.item()), x.tolist())[0][1] for x, z in zip(new_x[:, :-1], new_x[:, -1])], **tkwargs).unsqueeze(-1)\n",
        "    print(f\"candidates:\\n{new_x}\\n\")\n",
        "    print(f\"observations:\\n{new_obj}\\n\\n\")\n",
        "    return new_x, new_obj, cost"
      ]
    },
    {
      "cell_type": "code",
      "execution_count": 74,
      "metadata": {},
      "outputs": [
        {
          "name": "stderr",
          "output_type": "stream",
          "text": [
            "/Users/andrewsiah/Documents/research/data-recipes/.venv/lib/python3.12/site-packages/botorch/models/utils/assorted.py:265: InputDataWarning: Data (input features) is not contained to the unit cube. Please consider min-max scaling the input data.\n",
            "  check_min_max_scaling(\n",
            "/Users/andrewsiah/Documents/research/data-recipes/.venv/lib/python3.12/site-packages/botorch/acquisition/monte_carlo.py:393: NumericsWarning: qExpectedImprovement has known numerical issues that lead to suboptimal optimization performance. It is strongly recommended to simply replace\n",
            "\n",
            "\t qExpectedImprovement \t --> \t qLogExpectedImprovement \n",
            "\n",
            "instead, which fixes the issues and has the same API. See https://arxiv.org/abs/2310.20708 for details.\n",
            "  legacy_ei_numerics_warning(legacy_name=type(self).__name__)\n"
          ]
        },
        {
          "name": "stdout",
          "output_type": "stream",
          "text": [
            "candidates:\n",
            "tensor([[     0.047,      1.982,     -2.148,      2.012,     -0.359,    196.000],\n",
            "        [    -0.414,      2.753,      1.969,      1.191,      0.652,    196.000],\n",
            "        [    -2.078,      1.437,      1.147,      0.627,     -2.473,    196.000],\n",
            "        [    -1.652,      2.584,     -0.701,      2.095,     -1.349,    196.000]],\n",
            "       dtype=torch.float64)\n",
            "\n",
            "observations:\n",
            "tensor([[2.698],\n",
            "        [2.697],\n",
            "        [2.743],\n",
            "        [2.619]], dtype=torch.float64)\n",
            "\n",
            "\n"
          ]
        },
        {
          "name": "stderr",
          "output_type": "stream",
          "text": [
            "/Users/andrewsiah/Documents/research/data-recipes/.venv/lib/python3.12/site-packages/botorch/models/utils/assorted.py:265: InputDataWarning: Data (input features) is not contained to the unit cube. Please consider min-max scaling the input data.\n",
            "  check_min_max_scaling(\n",
            "/Users/andrewsiah/Documents/research/data-recipes/.venv/lib/python3.12/site-packages/botorch/acquisition/monte_carlo.py:393: NumericsWarning: qExpectedImprovement has known numerical issues that lead to suboptimal optimization performance. It is strongly recommended to simply replace\n",
            "\n",
            "\t qExpectedImprovement \t --> \t qLogExpectedImprovement \n",
            "\n",
            "instead, which fixes the issues and has the same API. See https://arxiv.org/abs/2310.20708 for details.\n",
            "  legacy_ei_numerics_warning(legacy_name=type(self).__name__)\n"
          ]
        },
        {
          "name": "stdout",
          "output_type": "stream",
          "text": [
            "candidates:\n",
            "tensor([[     1.385,     -1.080,      1.456,     -0.388,     -2.032,    196.000],\n",
            "        [     2.880,      2.843,     -2.000,      0.934,     -2.274,    196.000],\n",
            "        [     0.716,      2.359,     -2.884,      2.165,     -2.873,    196.000],\n",
            "        [     0.076,      2.046,     -2.075,      2.025,     -0.304,    196.000]],\n",
            "       dtype=torch.float64)\n",
            "\n",
            "observations:\n",
            "tensor([[2.861],\n",
            "        [2.602],\n",
            "        [2.683],\n",
            "        [2.693]], dtype=torch.float64)\n",
            "\n",
            "\n"
          ]
        },
        {
          "name": "stderr",
          "output_type": "stream",
          "text": [
            "/Users/andrewsiah/Documents/research/data-recipes/.venv/lib/python3.12/site-packages/botorch/models/utils/assorted.py:265: InputDataWarning: Data (input features) is not contained to the unit cube. Please consider min-max scaling the input data.\n",
            "  check_min_max_scaling(\n",
            "/Users/andrewsiah/Documents/research/data-recipes/.venv/lib/python3.12/site-packages/botorch/acquisition/monte_carlo.py:393: NumericsWarning: qExpectedImprovement has known numerical issues that lead to suboptimal optimization performance. It is strongly recommended to simply replace\n",
            "\n",
            "\t qExpectedImprovement \t --> \t qLogExpectedImprovement \n",
            "\n",
            "instead, which fixes the issues and has the same API. See https://arxiv.org/abs/2310.20708 for details.\n",
            "  legacy_ei_numerics_warning(legacy_name=type(self).__name__)\n"
          ]
        },
        {
          "name": "stdout",
          "output_type": "stream",
          "text": [
            "candidates:\n",
            "tensor([[    -2.059,      1.553,      1.247,      0.675,     -2.398,    196.000],\n",
            "        [     1.717,     -2.602,     -1.132,      0.350,     -0.839,    196.000],\n",
            "        [    -0.149,      1.866,      1.141,     -0.471,     -2.364,    196.000],\n",
            "        [    -2.045,      1.319,      1.075,      0.614,     -2.394,    196.000]],\n",
            "       dtype=torch.float64)\n",
            "\n",
            "observations:\n",
            "tensor([[2.737],\n",
            "        [2.703],\n",
            "        [2.699],\n",
            "        [2.755]], dtype=torch.float64)\n",
            "\n",
            "\n"
          ]
        }
      ],
      "source": [
        "cumulative_cost = 0.0\n",
        "\n",
        "train_x, train_obj = generate_initial_data(n=16)\n",
        "\n",
        "for _ in range(N_ITER):\n",
        "    mll, model = initialize_model(train_x, train_obj)\n",
        "    fit_gpytorch_mll(mll)\n",
        "    ei_acqf = get_ei(model, best_f=train_obj.max())\n",
        "    new_x, new_obj, cost = optimize_ei_and_get_observation(ei_acqf)\n",
        "    train_x = torch.cat([train_x, new_x])\n",
        "    train_obj = torch.cat([train_obj, new_obj])\n",
        "    cumulative_cost += cost"
      ]
    },
    {
      "cell_type": "code",
      "execution_count": 75,
      "metadata": {},
      "outputs": [
        {
          "name": "stdout",
          "output_type": "stream",
          "text": [
            "For metric of Stack Exchange Cross Entropy, the best point is:\n",
            "recommended point:\n",
            "tensor([[     0.062,      2.007,     -2.104,      2.021,     -0.330,    196.000]],\n",
            "       dtype=torch.float64)\n",
            "\n",
            "cross entropy value:\n",
            "0.8799238097040292\n",
            "optimized objective value (negated cross entropy):\n",
            "-0.8799238097040292\n",
            "\n",
            "Data mixture proportions:\n",
            "RedPajamaWikipedia: 0.063\n",
            "RedPajamaStackExchange: 0.440\n",
            "RedPajamaGithub: 0.007\n",
            "RedPajamaArXiv: 0.447\n",
            "RedPajamaBook: 0.043\n",
            "\n",
            "total cost: 14352.0\n",
            "\n"
          ]
        }
      ],
      "source": [
        "print(f\"For metric of {metric_name}, the best point is:\")\n",
        "final_rec = get_recommendation(model)\n",
        "print(f\"\\ntotal cost: {cumulative_cost}\\n\")"
      ]
    },
    {
      "cell_type": "code",
      "execution_count": 12,
      "metadata": {},
      "outputs": [],
      "source": []
    }
  ],
  "metadata": {
    "kernelspec": {
      "display_name": ".venv",
      "language": "python",
      "name": "python3"
    },
    "language_info": {
      "codemirror_mode": {
        "name": "ipython",
        "version": 3
      },
      "file_extension": ".py",
      "mimetype": "text/x-python",
      "name": "python",
      "nbconvert_exporter": "python",
      "pygments_lexer": "ipython3",
      "version": "3.12.6"
    }
  },
  "nbformat": 4,
  "nbformat_minor": 2
}

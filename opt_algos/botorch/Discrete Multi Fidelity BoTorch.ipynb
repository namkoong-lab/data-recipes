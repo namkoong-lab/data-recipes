{
  "cells": [
    {
      "cell_type": "markdown",
      "metadata": {},
      "source": [
        "## Multi-Fidelity BO with Discrete Fidelities using KG\n",
        "\n",
        "In this tutorial, we show how to do multi-fidelity BO with discrete fidelities based on [1], where each fidelity is a different \"information source.\" This tutorial uses the same setup as the [continuous multi-fidelity BO tutorial](https://botorch.org/tutorials/multi_fidelity_bo), except with discrete fidelity parameters that are interpreted as multiple information sources.\n",
        "\n",
        "We use a GP model with a single task that models the design and fidelity parameters jointly. In some cases, where there is not a natural ordering in the fidelity space, it may be more appropriate to use a multi-task model (with, say, an ICM kernel). We will provide a tutorial once this functionality is in place.\n",
        "\n",
        "[1] [M. Poloczek, J. Wang, P.I. Frazier. Multi-Information Source Optimization. NeurIPS, 2017](https://papers.nips.cc/paper/2017/file/df1f1d20ee86704251795841e6a9405a-Paper.pdf)\n",
        "\n",
        "[2] [J. Wu, S. Toscano-Palmerin, P.I. Frazier, A.G. Wilson. Practical Multi-fidelity Bayesian Optimization for Hyperparameter Tuning. Conference on Uncertainty in Artificial Intelligence (UAI), 2019](https://arxiv.org/pdf/1903.04703.pdf)"
      ]
    },
    {
      "cell_type": "markdown",
      "metadata": {},
      "source": [
        "### Set dtype and device"
      ]
    },
    {
      "cell_type": "code",
      "execution_count": 1,
      "metadata": {},
      "outputs": [],
      "source": [
        "import os\n",
        "import torch\n",
        "\n",
        "\n",
        "tkwargs = {\n",
        "    \"dtype\": torch.double,\n",
        "    \"device\": torch.device(\"cuda\" if torch.cuda.is_available() else \"cpu\"),\n",
        "}\n",
        "SMOKE_TEST = os.environ.get(\"SMOKE_TEST\")"
      ]
    },
    {
      "cell_type": "markdown",
      "metadata": {},
      "source": [
        "### Problem setup\n",
        "\n",
        "We'll consider the Augmented Hartmann multi-fidelity synthetic test problem. This function is a version of the Hartmann6 test function with an additional dimension representing the fidelity parameter; details are in [2]. The function takes the form $f(x,s)$ where $x \\in [0,1]^6$ and $s \\in \\{0.5, 0.75, 1\\}$. The target fidelity is 1.0, which means that our goal is to solve $\\max_x f(x,1.0)$ by making use of cheaper evaluations $f(x,s)$ for $s \\in \\{0.5, 0.75\\}$. In this example, we'll assume that the cost function takes the form $5.0 + s$, illustrating a situation where the fixed cost is $5.0$."
      ]
    },
    {
      "cell_type": "code",
      "execution_count": 2,
      "metadata": {},
      "outputs": [],
      "source": [
        "from botorch.test_functions.multi_fidelity import AugmentedHartmann\n",
        "\n",
        "\n",
        "problem = AugmentedHartmann(negate=True).to(**tkwargs)\n",
        "fidelities = torch.tensor([0.5, 0.75, 1.0], **tkwargs)"
      ]
    },
    {
      "cell_type": "markdown",
      "metadata": {},
      "source": [
        "#### Model initialization\n",
        "\n",
        "We use a `SingleTaskMultiFidelityGP` as the surrogate model, which uses a kernel from [2] that is well-suited for multi-fidelity applications. The `SingleTaskMultiFidelityGP` models the design and fidelity parameters jointly, so its domain is $[0,1]^7$."
      ]
    },
    {
      "cell_type": "code",
      "execution_count": 3,
      "metadata": {},
      "outputs": [],
      "source": [
        "from botorch.models.gp_regression_fidelity import SingleTaskMultiFidelityGP\n",
        "from botorch.models.transforms.outcome import Standardize\n",
        "from gpytorch.mlls.exact_marginal_log_likelihood import ExactMarginalLogLikelihood\n",
        "\n",
        "\n",
        "def generate_initial_data(n=16):\n",
        "    # generate training data\n",
        "    train_x = torch.rand(n, 6, **tkwargs)\n",
        "    train_f = fidelities[torch.randint(3, (n, 1))]\n",
        "    train_x_full = torch.cat((train_x, train_f), dim=1)\n",
        "    train_obj = problem(train_x_full).unsqueeze(-1)  # add output dimension\n",
        "    return train_x_full, train_obj\n",
        "\n",
        "\n",
        "def initialize_model(train_x, train_obj):\n",
        "    # define a surrogate model suited for a \"training data\"-like fidelity parameter\n",
        "    # in dimension 6, as in [2]\n",
        "    model = SingleTaskMultiFidelityGP(\n",
        "        train_x, train_obj, outcome_transform=Standardize(m=1), data_fidelities=[6]\n",
        "    )\n",
        "    mll = ExactMarginalLogLikelihood(model.likelihood, model)\n",
        "    return mll, model"
      ]
    },
    {
      "cell_type": "markdown",
      "metadata": {
        "originalKey": "8add142b-e32b-4f27-8f22-4386879512f6",
        "showInput": false
      },
      "source": [
        "#### Define a helper function to construct the MFKG acquisition function\n",
        "The helper function illustrates how one can initialize an $q$MFKG acquisition function. In this example, we assume that the affine cost is known. We then use the notion of a `CostAwareUtility` in BoTorch to scalarize the \"competing objectives\" of information gain and cost. The MFKG acquisition function optimizes the ratio of information gain to cost, which is captured by the `InverseCostWeightedUtility`.\n",
        "\n",
        "In order for MFKG to evaluate the information gain, it uses the model to predict the function value at the highest fidelity after conditioning on the observation. This is handled by the `project` argument, which specifies how to transform a tensor `X` to its target fidelity. We use a default helper function called `project_to_target_fidelity` to achieve this.\n",
        "\n",
        "An important point to keep in mind: in the case of standard KG, one can ignore the current value and simply optimize the expected maximum posterior mean of the next stage. However, for MFKG, since the goal is optimize information *gain* per cost, it is important to first compute the current value (i.e., maximum of the posterior mean at the target fidelity). To accomplish this, we use a `FixedFeatureAcquisitionFunction` on top of a `PosteriorMean`."
      ]
    },
    {
      "cell_type": "code",
      "execution_count": 4,
      "metadata": {},
      "outputs": [],
      "source": [
        "# Import required BoTorch modules\n",
        "from botorch import fit_gpytorch_mll\n",
        "from botorch.models.cost import AffineFidelityCostModel\n",
        "from botorch.acquisition.cost_aware import InverseCostWeightedUtility\n",
        "from botorch.acquisition import PosteriorMean\n",
        "from botorch.acquisition.knowledge_gradient import qMultiFidelityKnowledgeGradient\n",
        "from botorch.acquisition.fixed_feature import FixedFeatureAcquisitionFunction\n",
        "from botorch.optim.optimize import optimize_acqf\n",
        "from botorch.acquisition.utils import project_to_target_fidelity\n",
        "\n",
        "# Define bounds for the optimization space - creates a tensor with lower and upper bounds\n",
        "bounds = torch.tensor([[0.0] * problem.dim, [1.0] * problem.dim], **tkwargs)\n",
        "\n",
        "# Specify that dimension 6 (the fidelity parameter) should be set to 1.0 for final evaluation\n",
        "target_fidelities = {6: 1.0}\n",
        "\n",
        "# Create cost model that assigns weight of 1.0 to fidelity dimension and adds fixed cost of 5.0\n",
        "cost_model = AffineFidelityCostModel(fidelity_weights={6: 1.0}, fixed_cost=5.0)\n",
        "\n",
        "# Create utility function that considers both information gain and cost\n",
        "cost_aware_utility = InverseCostWeightedUtility(cost_model=cost_model)\n",
        "\n",
        "# Helper function to project points to target fidelity\n",
        "def project(X):\n",
        "    return project_to_target_fidelity(X=X, target_fidelities=target_fidelities)\n",
        "\n",
        "# Function to create Multi-Fidelity Knowledge Gradient acquisition function\n",
        "def get_mfkg(model):\n",
        "    # First get current best value at highest fidelity\n",
        "    # Create acquisition function that fixes fidelity to 1.0 and looks at posterior mean\n",
        "    curr_val_acqf = FixedFeatureAcquisitionFunction(\n",
        "        acq_function=PosteriorMean(model),\n",
        "        d=7,  # Total dimensions including fidelity\n",
        "        columns=[6],  # Fix fidelity dimension\n",
        "        values=[1],  # Fix fidelity to 1.0\n",
        "    )\n",
        "\n",
        "    # Optimize to find current best value at highest fidelity  [']\n",
        "    _, current_value = optimize_acqf(\n",
        "        acq_function=curr_val_acqf,\n",
        "        bounds=bounds[:, :-1],  # Exclude fidelity dimension\n",
        "        q=1,\n",
        "        num_restarts=10 if not SMOKE_TEST else 2,\n",
        "        raw_samples=1024 if not SMOKE_TEST else 4,\n",
        "        options={\"batch_limit\": 10, \"maxiter\": 200},\n",
        "    )\n",
        "\n",
        "    # Create and return MFKG acquisition function\n",
        "    return qMultiFidelityKnowledgeGradient(\n",
        "        model=model,\n",
        "        num_fantasies=128 if not SMOKE_TEST else 2,  # Number of fantasy points\n",
        "        current_value=current_value,  # Pass in current best value\n",
        "        cost_aware_utility=cost_aware_utility,  # Consider cost when making decisions\n",
        "        project=project,  # How to project to target fidelity\n",
        "    )"
      ]
    },
    {
      "cell_type": "markdown",
      "metadata": {},
      "source": [
        "#### Define a helper function that performs the essential BO step\n",
        "This helper function optimizes the acquisition function and returns the batch $\\{x_1, x_2, \\ldots x_q\\}$ along with the observed function values. The function `optimize_acqf_mixed` sequentially optimizes the acquisition function over $x$ for each value of the fidelity $s \\in \\{0, 0.5, 1.0\\}$."
      ]
    },
    {
      "cell_type": "code",
      "execution_count": 5,
      "metadata": {},
      "outputs": [],
      "source": [
        "from botorch.optim.optimize import optimize_acqf_mixed\n",
        "\n",
        "\n",
        "torch.set_printoptions(precision=3, sci_mode=False)\n",
        "\n",
        "NUM_RESTARTS = 5 if not SMOKE_TEST else 2\n",
        "RAW_SAMPLES = 128 if not SMOKE_TEST else 4\n",
        "BATCH_SIZE = 4\n",
        "\n",
        "\n",
        "def optimize_mfkg_and_get_observation(mfkg_acqf):\n",
        "    \"\"\"Optimizes MFKG and returns a new candidate, observation, and cost.\"\"\"\n",
        "\n",
        "    # generate new candidates\n",
        "    candidates, _ = optimize_acqf_mixed(\n",
        "        acq_function=mfkg_acqf,\n",
        "        bounds=bounds,\n",
        "        fixed_features_list=[{6: 0.5}, {6: 0.75}, {6: 1.0}],\n",
        "        q=BATCH_SIZE,\n",
        "        num_restarts=NUM_RESTARTS,\n",
        "        raw_samples=RAW_SAMPLES,\n",
        "        # batch_initial_conditions=X_init,\n",
        "        options={\"batch_limit\": 5, \"maxiter\": 200},\n",
        "    )\n",
        "\n",
        "    # observe new values\n",
        "    cost = cost_model(candidates).sum()\n",
        "    new_x = candidates.detach()\n",
        "    new_obj = problem(new_x).unsqueeze(-1)\n",
        "    print(f\"candidates:\\n{new_x}\\n\")\n",
        "    print(f\"observations:\\n{new_obj}\\n\\n\")\n",
        "    return new_x, new_obj, cost"
      ]
    },
    {
      "cell_type": "markdown",
      "metadata": {},
      "source": [
        "### Perform a few steps of multi-fidelity BO\n",
        "First, let's generate some initial random data and fit a surrogate model."
      ]
    },
    {
      "cell_type": "code",
      "execution_count": 6,
      "metadata": {},
      "outputs": [],
      "source": [
        "train_x, train_obj = generate_initial_data(n=16)"
      ]
    },
    {
      "cell_type": "markdown",
      "metadata": {},
      "source": [
        "We can now use the helper functions above to run a few iterations of BO."
      ]
    },
    {
      "cell_type": "code",
      "execution_count": 7,
      "metadata": {},
      "outputs": [
        {
          "name": "stdout",
          "output_type": "stream",
          "text": [
            "candidates:\n",
            "tensor([[0.822, 0.784, 0.964, 0.804, 0.906, 0.121, 0.500],\n",
            "        [0.617, 0.680, 0.954, 0.675, 0.863, 0.070, 1.000],\n",
            "        [0.648, 0.852, 0.929, 0.743, 0.781, 0.016, 0.750],\n",
            "        [0.551, 0.757, 0.924, 0.843, 0.935, 0.057, 0.750]],\n",
            "       dtype=torch.float64)\n",
            "\n",
            "observations:\n",
            "tensor([[0.078],\n",
            "        [0.902],\n",
            "        [0.830],\n",
            "        [0.884]], dtype=torch.float64)\n",
            "\n",
            "\n",
            "candidates:\n",
            "tensor([[0.283, 1.000, 1.000, 0.000, 1.000, 0.397, 0.750],\n",
            "        [0.576, 0.797, 1.000, 0.783, 0.778, 0.223, 0.500],\n",
            "        [0.299, 0.074, 0.379, 0.761, 0.142, 0.541, 0.750],\n",
            "        [0.578, 0.871, 1.000, 0.664, 0.934, 0.115, 0.750]],\n",
            "       dtype=torch.float64)\n",
            "\n",
            "observations:\n",
            "tensor([[0.015],\n",
            "        [0.704],\n",
            "        [0.203],\n",
            "        [1.521]], dtype=torch.float64)\n",
            "\n",
            "\n",
            "candidates:\n",
            "tensor([[1.000, 1.000, 0.000, 1.000, 1.000, 0.552, 1.000],\n",
            "        [0.558, 0.760, 0.982, 0.640, 0.883, 0.055, 0.750],\n",
            "        [0.620, 0.000, 0.377, 0.128, 0.000, 0.996, 0.500],\n",
            "        [1.000, 0.000, 1.000, 0.765, 1.000, 0.431, 1.000]],\n",
            "       dtype=torch.float64)\n",
            "\n",
            "observations:\n",
            "tensor([[    0.000],\n",
            "        [    1.709],\n",
            "        [    0.128],\n",
            "        [    0.000]], dtype=torch.float64)\n",
            "\n",
            "\n"
          ]
        }
      ],
      "source": [
        "cumulative_cost = 0.0\n",
        "N_ITER = 3 if not SMOKE_TEST else 1\n",
        "\n",
        "for i in range(N_ITER):\n",
        "    mll, model = initialize_model(train_x, train_obj)\n",
        "    fit_gpytorch_mll(mll)\n",
        "    mfkg_acqf = get_mfkg(model)\n",
        "    new_x, new_obj, cost = optimize_mfkg_and_get_observation(mfkg_acqf)\n",
        "    train_x = torch.cat([train_x, new_x])\n",
        "    train_obj = torch.cat([train_obj, new_obj])\n",
        "    cumulative_cost += cost"
      ]
    },
    {
      "cell_type": "markdown",
      "metadata": {},
      "source": [
        "### Make a final recommendation\n",
        "In multi-fidelity BO, there are usually fewer observations of the function at the target fidelity, so it is important to use a recommendation function that uses the correct fidelity. Here, we maximize the posterior mean with the fidelity dimension fixed to the target fidelity of 1.0."
      ]
    },
    {
      "cell_type": "code",
      "execution_count": 8,
      "metadata": {},
      "outputs": [],
      "source": [
        "def get_recommendation(model):\n",
        "    rec_acqf = FixedFeatureAcquisitionFunction(\n",
        "        acq_function=PosteriorMean(model),\n",
        "        d=7,\n",
        "        columns=[6],\n",
        "        values=[1],\n",
        "    )\n",
        "\n",
        "    final_rec, _ = optimize_acqf(\n",
        "        acq_function=rec_acqf,\n",
        "        bounds=bounds[:, :-1],\n",
        "        q=1,\n",
        "        num_restarts=10,\n",
        "        raw_samples=512,\n",
        "        options={\"batch_limit\": 5, \"maxiter\": 200},\n",
        "    )\n",
        "\n",
        "    final_rec = rec_acqf._construct_X_full(final_rec)\n",
        "\n",
        "    objective_value = problem(final_rec)\n",
        "    print(f\"recommended point:\\n{final_rec}\\n\\nobjective value:\\n{objective_value}\")\n",
        "    return final_rec"
      ]
    },
    {
      "cell_type": "code",
      "execution_count": 9,
      "metadata": {},
      "outputs": [
        {
          "name": "stdout",
          "output_type": "stream",
          "text": [
            "recommended point:\n",
            "tensor([[0.567, 0.897, 1.000, 0.642, 0.959, 0.096, 1.000]],\n",
            "       dtype=torch.float64)\n",
            "\n",
            "objective value:\n",
            "tensor([1.732], dtype=torch.float64)\n",
            "\n",
            "total cost: 69.0\n",
            "\n"
          ]
        }
      ],
      "source": [
        "final_rec = get_recommendation(model)\n",
        "print(f\"\\ntotal cost: {cumulative_cost}\\n\")"
      ]
    },
    {
      "cell_type": "markdown",
      "metadata": {},
      "source": [
        "### Comparison to standard EI (always use target fidelity)\n",
        "Let's now repeat the same steps using a standard EI acquisition function (note that this is not a rigorous comparison as we are only looking at one trial in order to keep computational requirements low)."
      ]
    },
    {
      "cell_type": "code",
      "execution_count": 10,
      "metadata": {},
      "outputs": [],
      "source": [
        "from botorch.acquisition import qExpectedImprovement\n",
        "\n",
        "\n",
        "def get_ei(model, best_f):\n",
        "\n",
        "    return FixedFeatureAcquisitionFunction(\n",
        "        acq_function=qExpectedImprovement(model=model, best_f=best_f),\n",
        "        d=7,\n",
        "        columns=[6],\n",
        "        values=[1],\n",
        "    )\n",
        "\n",
        "\n",
        "def optimize_ei_and_get_observation(ei_acqf):\n",
        "    \"\"\"Optimizes EI and returns a new candidate, observation, and cost.\"\"\"\n",
        "\n",
        "    candidates, _ = optimize_acqf(\n",
        "        acq_function=ei_acqf,\n",
        "        bounds=bounds[:, :-1],\n",
        "        q=BATCH_SIZE,\n",
        "        num_restarts=10,\n",
        "        raw_samples=512,\n",
        "        options={\"batch_limit\": 5, \"maxiter\": 200},\n",
        "    )\n",
        "\n",
        "    # add the fidelity parameter\n",
        "    candidates = ei_acqf._construct_X_full(candidates)\n",
        "\n",
        "    # observe new values\n",
        "    cost = cost_model(candidates).sum()\n",
        "    new_x = candidates.detach()\n",
        "    new_obj = problem(new_x).unsqueeze(-1)\n",
        "    print(f\"candidates:\\n{new_x}\\n\")\n",
        "    print(f\"observations:\\n{new_obj}\\n\\n\")\n",
        "    return new_x, new_obj, cost"
      ]
    },
    {
      "cell_type": "code",
      "execution_count": 11,
      "metadata": {},
      "outputs": [
        {
          "name": "stderr",
          "output_type": "stream",
          "text": [
            "/Users/andrewsiah/Documents/research/data-recipes/.venv/lib/python3.12/site-packages/botorch/acquisition/monte_carlo.py:393: NumericsWarning: qExpectedImprovement has known numerical issues that lead to suboptimal optimization performance. It is strongly recommended to simply replace\n",
            "\n",
            "\t qExpectedImprovement \t --> \t qLogExpectedImprovement \n",
            "\n",
            "instead, which fixes the issues and has the same API. See https://arxiv.org/abs/2310.20708 for details.\n",
            "  legacy_ei_numerics_warning(legacy_name=type(self).__name__)\n"
          ]
        },
        {
          "name": "stdout",
          "output_type": "stream",
          "text": [
            "candidates:\n",
            "tensor([[0.418, 0.364, 0.348, 0.459, 0.267, 0.404, 1.000],\n",
            "        [0.417, 0.630, 0.571, 0.525, 0.177, 0.338, 1.000],\n",
            "        [0.296, 0.571, 0.575, 0.448, 0.229, 0.241, 1.000],\n",
            "        [0.362, 0.707, 0.347, 0.478, 0.225, 0.272, 1.000]],\n",
            "       dtype=torch.float64)\n",
            "\n",
            "observations:\n",
            "tensor([[1.064],\n",
            "        [0.758],\n",
            "        [0.862],\n",
            "        [1.198]], dtype=torch.float64)\n",
            "\n",
            "\n"
          ]
        },
        {
          "name": "stderr",
          "output_type": "stream",
          "text": [
            "/Users/andrewsiah/Documents/research/data-recipes/.venv/lib/python3.12/site-packages/botorch/acquisition/monte_carlo.py:393: NumericsWarning: qExpectedImprovement has known numerical issues that lead to suboptimal optimization performance. It is strongly recommended to simply replace\n",
            "\n",
            "\t qExpectedImprovement \t --> \t qLogExpectedImprovement \n",
            "\n",
            "instead, which fixes the issues and has the same API. See https://arxiv.org/abs/2310.20708 for details.\n",
            "  legacy_ei_numerics_warning(legacy_name=type(self).__name__)\n"
          ]
        },
        {
          "name": "stdout",
          "output_type": "stream",
          "text": [
            "candidates:\n",
            "tensor([[0.432, 0.234, 0.005, 0.432, 0.282, 0.377, 1.000],\n",
            "        [0.313, 0.841, 0.488, 0.466, 0.170, 0.208, 1.000],\n",
            "        [0.313, 0.837, 0.521, 0.468, 0.281, 0.271, 1.000],\n",
            "        [0.500, 0.172, 0.278, 0.442, 0.298, 0.521, 1.000]],\n",
            "       dtype=torch.float64)\n",
            "\n",
            "observations:\n",
            "tensor([[0.896],\n",
            "        [1.674],\n",
            "        [1.259],\n",
            "        [1.629]], dtype=torch.float64)\n",
            "\n",
            "\n"
          ]
        },
        {
          "name": "stderr",
          "output_type": "stream",
          "text": [
            "/Users/andrewsiah/Documents/research/data-recipes/.venv/lib/python3.12/site-packages/botorch/acquisition/monte_carlo.py:393: NumericsWarning: qExpectedImprovement has known numerical issues that lead to suboptimal optimization performance. It is strongly recommended to simply replace\n",
            "\n",
            "\t qExpectedImprovement \t --> \t qLogExpectedImprovement \n",
            "\n",
            "instead, which fixes the issues and has the same API. See https://arxiv.org/abs/2310.20708 for details.\n",
            "  legacy_ei_numerics_warning(legacy_name=type(self).__name__)\n"
          ]
        },
        {
          "name": "stdout",
          "output_type": "stream",
          "text": [
            "candidates:\n",
            "tensor([[0.264, 0.537, 0.898, 0.843, 0.888, 0.310, 1.000],\n",
            "        [0.342, 0.870, 0.482, 0.490, 0.162, 0.121, 1.000],\n",
            "        [0.237, 0.862, 0.454, 0.505, 0.126, 0.211, 1.000],\n",
            "        [0.308, 0.874, 0.471, 0.386, 0.125, 0.204, 1.000]],\n",
            "       dtype=torch.float64)\n",
            "\n",
            "observations:\n",
            "tensor([[0.147],\n",
            "        [2.533],\n",
            "        [1.276],\n",
            "        [1.346]], dtype=torch.float64)\n",
            "\n",
            "\n"
          ]
        }
      ],
      "source": [
        "cumulative_cost = 0.0\n",
        "\n",
        "train_x, train_obj = generate_initial_data(n=16)\n",
        "\n",
        "for _ in range(N_ITER):\n",
        "    mll, model = initialize_model(train_x, train_obj)\n",
        "    fit_gpytorch_mll(mll)\n",
        "    ei_acqf = get_ei(model, best_f=train_obj.max())\n",
        "    new_x, new_obj, cost = optimize_ei_and_get_observation(ei_acqf)\n",
        "    train_x = torch.cat([train_x, new_x])\n",
        "    train_obj = torch.cat([train_obj, new_obj])\n",
        "    cumulative_cost += cost"
      ]
    },
    {
      "cell_type": "code",
      "execution_count": 12,
      "metadata": {},
      "outputs": [
        {
          "name": "stdout",
          "output_type": "stream",
          "text": [
            "recommended point:\n",
            "tensor([[0.303, 0.857, 0.474, 0.463, 0.150, 0.189, 1.000]],\n",
            "       dtype=torch.float64)\n",
            "\n",
            "objective value:\n",
            "tensor([1.746], dtype=torch.float64)\n",
            "\n",
            "total cost: 72.0\n",
            "\n"
          ]
        }
      ],
      "source": [
        "final_rec = get_recommendation(model)\n",
        "print(f\"\\ntotal cost: {cumulative_cost}\\n\")"
      ]
    },
    {
      "cell_type": "code",
      "execution_count": 12,
      "metadata": {},
      "outputs": [],
      "source": []
    }
  ],
  "metadata": {
    "kernelspec": {
      "display_name": ".venv",
      "language": "python",
      "name": "python3"
    },
    "language_info": {
      "codemirror_mode": {
        "name": "ipython",
        "version": 3
      },
      "file_extension": ".py",
      "mimetype": "text/x-python",
      "name": "python",
      "nbconvert_exporter": "python",
      "pygments_lexer": "ipython3",
      "version": "3.12.6"
    }
  },
  "nbformat": 4,
  "nbformat_minor": 2
}

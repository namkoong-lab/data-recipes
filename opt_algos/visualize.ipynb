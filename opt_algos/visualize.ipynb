{
 "cells": [
  {
   "cell_type": "markdown",
   "metadata": {},
   "source": [
    "# Opt algo visualizer\n",
    "\n",
    "This notebook reads the pickle produced by `tests.py` and visualizes it"
   ]
  },
  {
   "cell_type": "code",
   "execution_count": 1,
   "metadata": {},
   "outputs": [],
   "source": [
    "import matplotlib.pyplot as plt\n",
    "import seaborn as sns\n",
    "import pickle"
   ]
  },
  {
   "cell_type": "code",
   "execution_count": 4,
   "metadata": {},
   "outputs": [],
   "source": [
    "out = pickle.load(open('tests.pickle', 'rb'))"
   ]
  },
  {
   "cell_type": "code",
   "execution_count": 11,
   "metadata": {},
   "outputs": [],
   "source": [
    "benchmark_to_plot = 'Lemur'\n",
    "algo_to_plot      = 'BOCA'"
   ]
  },
  {
   "cell_type": "markdown",
   "metadata": {},
   "source": [
    "The code below will plot the trace for this algorithm and this benchmark. Click on the pan button, and then\n",
    "  - Left-click and drag to pan\n",
    "  - Right-click and drag to zoom"
   ]
  },
  {
   "cell_type": "code",
   "execution_count": 12,
   "metadata": {},
   "outputs": [],
   "source": [
    "%matplotlib qt\n",
    "\n",
    "df       = out[(benchmark_to_plot, algo_to_plot)][2].copy()\n",
    "best_obj = out[(benchmark_to_plot, algo_to_plot)][1]\n",
    "\n",
    "df_exploded        = df.explode('history').reset_index(drop=True)\n",
    "df_exploded['obj'] = df_exploded.history.str[1].astype(float)\n",
    "\n",
    "fig, ax = plt.subplots(figsize=(12, 8))\n",
    "\n",
    "df_exploded.obj.cummin().plot(linewidth=0, marker='o', markersize=3, fillstyle='none', color='red')\n",
    "\n",
    "for this_group, this_df in df_exploded.groupby('x'):\n",
    "    plt.plot(this_df.index, this_df.obj, marker='x', markersize=3, linestyle='-', linewidth=0.3, color='black')\n",
    "\n",
    "plt.yscale('log')\n",
    "\n",
    "plt.title(f'Connected lines correspond to a evaluations\\nfor a single value of x at different fidelities\\n(Minimum thus far in red; final minimum: {round(best_obj, 3)})')\n",
    "plt.xlabel('Function evaluation number')\n",
    "plt.ylabel('Function value (log scale)')\n",
    "\n",
    "sns.despine()"
   ]
  }
 ],
 "metadata": {
  "kernelspec": {
   "display_name": "Python 3",
   "language": "python",
   "name": "python3"
  },
  "language_info": {
   "codemirror_mode": {
    "name": "ipython",
    "version": 3
   },
   "file_extension": ".py",
   "mimetype": "text/x-python",
   "name": "python",
   "nbconvert_exporter": "python",
   "pygments_lexer": "ipython3",
   "version": "3.8.19"
  }
 },
 "nbformat": 4,
 "nbformat_minor": 2
}

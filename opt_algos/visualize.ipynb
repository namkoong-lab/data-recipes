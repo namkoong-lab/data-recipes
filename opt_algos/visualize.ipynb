{
 "cells": [
  {
   "cell_type": "markdown",
   "metadata": {},
   "source": [
    "# Opt algo visualizer\n",
    "\n",
    "This notebook reads the pickle produced by `tests.py` and visualizes it"
   ]
  },
  {
   "cell_type": "code",
   "execution_count": 52,
   "metadata": {},
   "outputs": [],
   "source": [
    "import matplotlib.pyplot as plt\n",
    "import seaborn as sns\n",
    "import pickle"
   ]
  },
  {
   "cell_type": "code",
   "execution_count": 53,
   "metadata": {},
   "outputs": [
    {
     "data": {
      "text/html": [
       "<div>\n",
       "<style scoped>\n",
       "    .dataframe tbody tr th:only-of-type {\n",
       "        vertical-align: middle;\n",
       "    }\n",
       "\n",
       "    .dataframe tbody tr th {\n",
       "        vertical-align: top;\n",
       "    }\n",
       "\n",
       "    .dataframe thead th {\n",
       "        text-align: right;\n",
       "    }\n",
       "</style>\n",
       "<table border=\"1\" class=\"dataframe\">\n",
       "  <thead>\n",
       "    <tr style=\"text-align: right;\">\n",
       "      <th></th>\n",
       "      <th>z</th>\n",
       "      <th>func</th>\n",
       "      <th>history</th>\n",
       "      <th>x</th>\n",
       "    </tr>\n",
       "  </thead>\n",
       "  <tbody>\n",
       "    <tr>\n",
       "      <th>0</th>\n",
       "      <td>196</td>\n",
       "      <td>1.073332</td>\n",
       "      <td>[[1, 3.5191454614463664], [2, 3.14618202653340...</td>\n",
       "      <td>2.1878838345966054|-0.6602439969338354|2.78977...</td>\n",
       "    </tr>\n",
       "    <tr>\n",
       "      <th>1</th>\n",
       "      <td>196</td>\n",
       "      <td>1.051083</td>\n",
       "      <td>[[1, 2.0636080824631002], [2, 1.94219051565865...</td>\n",
       "      <td>0.09432258090428292|1.2625557426287948|-2.5959...</td>\n",
       "    </tr>\n",
       "    <tr>\n",
       "      <th>2</th>\n",
       "      <td>196</td>\n",
       "      <td>1.122425</td>\n",
       "      <td>[[1, 3.1481951070507486], [2, 2.69300737228224...</td>\n",
       "      <td>0.5672079886709782|-2.625842459512885|0.052340...</td>\n",
       "    </tr>\n",
       "    <tr>\n",
       "      <th>3</th>\n",
       "      <td>196</td>\n",
       "      <td>1.219109</td>\n",
       "      <td>[[1, 3.6226742289913076], [2, 3.26291487058997...</td>\n",
       "      <td>-1.1027834425790108|1.7704087226388534|-2.3698...</td>\n",
       "    </tr>\n",
       "    <tr>\n",
       "      <th>4</th>\n",
       "      <td>196</td>\n",
       "      <td>1.248949</td>\n",
       "      <td>[[1, 3.706273126207154], [2, 3.359338367070498...</td>\n",
       "      <td>-1.2553671443729686|1.9701326519739801|-0.4149...</td>\n",
       "    </tr>\n",
       "  </tbody>\n",
       "</table>\n",
       "</div>"
      ],
      "text/plain": [
       "     z      func                                            history  \\\n",
       "0  196  1.073332  [[1, 3.5191454614463664], [2, 3.14618202653340...   \n",
       "1  196  1.051083  [[1, 2.0636080824631002], [2, 1.94219051565865...   \n",
       "2  196  1.122425  [[1, 3.1481951070507486], [2, 2.69300737228224...   \n",
       "3  196  1.219109  [[1, 3.6226742289913076], [2, 3.26291487058997...   \n",
       "4  196  1.248949  [[1, 3.706273126207154], [2, 3.359338367070498...   \n",
       "\n",
       "                                                   x  \n",
       "0  2.1878838345966054|-0.6602439969338354|2.78977...  \n",
       "1  0.09432258090428292|1.2625557426287948|-2.5959...  \n",
       "2  0.5672079886709782|-2.625842459512885|0.052340...  \n",
       "3  -1.1027834425790108|1.7704087226388534|-2.3698...  \n",
       "4  -1.2553671443729686|1.9701326519739801|-0.4149...  "
      ]
     },
     "execution_count": 53,
     "metadata": {},
     "output_type": "execute_result"
    }
   ],
   "source": [
    "out = pickle.load(open('tests.pickle', 'rb'))\n",
    "out.keys()\n",
    "out[('DataModel', 'RandomSearch')][2]"
   ]
  },
  {
   "cell_type": "code",
   "execution_count": 54,
   "metadata": {},
   "outputs": [],
   "source": [
    "benchmark_to_plot = 'DataModel'\n",
    "algo_to_plot      = 'SMAC'"
   ]
  },
  {
   "cell_type": "markdown",
   "metadata": {},
   "source": [
    "The code below will plot the trace for this algorithm and this benchmark. Click on the pan button, and then\n",
    "  - Left-click and drag to pan\n",
    "  - Right-click and drag to zoom"
   ]
  },
  {
   "cell_type": "code",
   "execution_count": 55,
   "metadata": {},
   "outputs": [],
   "source": [
    "%matplotlib qt\n",
    "\n",
    "df       = out[(benchmark_to_plot, algo_to_plot)][2].copy()\n",
    "best_obj = out[(benchmark_to_plot, algo_to_plot)][1]\n",
    "\n",
    "df_exploded        = df.explode('history').reset_index(drop=True)\n",
    "df_exploded['obj'] = df_exploded.history.str[1].astype(float)\n",
    "\n",
    "fig, ax = plt.subplots(figsize=(12, 8))\n",
    "\n",
    "df_exploded.obj.cummin().plot(linewidth=0, marker='o', markersize=3, fillstyle='none', color='red')\n",
    "\n",
    "for this_group, this_df in df_exploded.groupby('x'):\n",
    "    plt.plot(this_df.index, this_df.obj, marker='x', markersize=3, linestyle='-', linewidth=0.3, color='black')\n",
    "\n",
    "plt.yscale('log')\n",
    "\n",
    "plt.title(f'Connected lines correspond to a evaluations\\nfor a single value of x at different fidelities\\n(Minimum thus far in red; final minimum: {round(best_obj, 3)})')\n",
    "plt.xlabel('Function evaluation number')\n",
    "plt.ylabel('Function value (log scale)')\n",
    "\n",
    "sns.despine()"
   ]
  },
  {
   "cell_type": "code",
   "execution_count": 56,
   "metadata": {},
   "outputs": [
    {
     "name": "stdout",
     "output_type": "stream",
     "text": [
      "[ 2.82216163 -2.53117548 -2.69713016 -2.79824854 -2.51834313]\n",
      "[0.98313179 0.00465251 0.00394107 0.00356204 0.00471259]\n",
      "0.8599456658412621\n"
     ]
    }
   ],
   "source": [
    "import numpy as np\n",
    "x,y,history,_ = out[('DataModel', 'SMAC')]\n",
    "x\n",
    "\n",
    "print(x)\n",
    "proportions = np.exp(x) / np.sum(np.exp(x))\n",
    "print(proportions)\n",
    "print(y)"
   ]
  },
  {
   "cell_type": "code",
   "execution_count": 57,
   "metadata": {},
   "outputs": [
    {
     "name": "stdout",
     "output_type": "stream",
     "text": [
      "[ 0.09432258  1.26255574 -2.59598988  0.08861135  2.98182494]\n",
      "[0.04305354 0.13847331 0.0029216  0.04280835 0.7727432 ]\n",
      "1.0510827719468696\n"
     ]
    }
   ],
   "source": [
    "import numpy as np\n",
    "x,y,history,_ = out[('DataModel', 'RandomSearch')]\n",
    "x\n",
    "\n",
    "print(x)\n",
    "proportions = np.exp(x) / np.sum(np.exp(x))\n",
    "print(proportions)\n",
    "print(y)"
   ]
  },
  {
   "cell_type": "code",
   "execution_count": null,
   "metadata": {},
   "outputs": [],
   "source": []
  }
 ],
 "metadata": {
  "kernelspec": {
   "display_name": "dr",
   "language": "python",
   "name": "python3"
  },
  "language_info": {
   "codemirror_mode": {
    "name": "ipython",
    "version": 3
   },
   "file_extension": ".py",
   "mimetype": "text/x-python",
   "name": "python",
   "nbconvert_exporter": "python",
   "pygments_lexer": "ipython3",
   "version": "3.9.19"
  }
 },
 "nbformat": 4,
 "nbformat_minor": 2
}

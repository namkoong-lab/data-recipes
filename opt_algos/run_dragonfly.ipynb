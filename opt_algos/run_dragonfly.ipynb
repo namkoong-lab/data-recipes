{
 "cells": [
  {
   "cell_type": "code",
   "execution_count": 1,
   "metadata": {},
   "outputs": [],
   "source": [
    "import benchmarks\n",
    "import optimizers\n",
    "import matplotlib.pyplot as plt\n",
    "import seaborn as sns"
   ]
  },
  {
   "cell_type": "code",
   "execution_count": 2,
   "metadata": {},
   "outputs": [],
   "source": [
    "benchmarks = {'Branin'         : benchmarks.BraninBenchmark       ,\n",
    "              'SimpleMixture'  : benchmarks.SimpleMixtureBenchmark,\n",
    "              'Lemur'          : benchmarks.LemurBenchmark         }"
   ]
  },
  {
   "cell_type": "code",
   "execution_count": 3,
   "metadata": {},
   "outputs": [],
   "source": [
    "optimizers = {'SMAC'         : optimizers.SMACOptimizer         ,\n",
    "              'BOCA'         : optimizers.BOCAOptimizer         ,\n",
    "              'RandomSearch' : optimizers.RandomSearchOptimizer ,\n",
    "              'GridSearch'   : optimizers.GridSearchOptimizer     }"
   ]
  },
  {
   "cell_type": "code",
   "execution_count": null,
   "metadata": {},
   "outputs": [],
   "source": [
    "smac_times = {'Branin'        : 2.7\n",
    "              'SimpleMixture' : 12.7\n",
    "              'Lemur'         : 6.0   }"
   ]
  },
  {
   "cell_type": "code",
   "execution_count": 4,
   "metadata": {},
   "outputs": [
    {
     "name": "stdout",
     "output_type": "stream",
     "text": [
      "Branin SMAC\n",
      "[WARNING][target_function_runner.py:74] The argument n_vars is not set by SMAC: Consider removing it from the target function.\n",
      "[INFO][abstract_initial_design.py:147] Using 20 initial design configurations and 0 additional configurations.\n",
      "[INFO][successive_halving.py:164] Successive Halving uses budget type BUDGETS with eta 3, min budget 1, and max budget 100.\n",
      "[INFO][successive_halving.py:323] Number of configs in stage:\n",
      "[INFO][successive_halving.py:325] --- Bracket 0: [81, 27, 9, 3, 1]\n",
      "[INFO][successive_halving.py:325] --- Bracket 1: [34, 11, 3, 1]\n",
      "[INFO][successive_halving.py:325] --- Bracket 2: [15, 5, 1]\n",
      "[INFO][successive_halving.py:325] --- Bracket 3: [8, 2]\n",
      "[INFO][successive_halving.py:325] --- Bracket 4: [5]\n",
      "[INFO][successive_halving.py:327] Budgets in stage:\n",
      "[INFO][successive_halving.py:329] --- Bracket 0: [1.2345679012345678, 3.7037037037037033, 11.11111111111111, 33.33333333333333, 100.0]\n",
      "[INFO][successive_halving.py:329] --- Bracket 1: [3.7037037037037033, 11.11111111111111, 33.33333333333333, 100.0]\n",
      "[INFO][successive_halving.py:329] --- Bracket 2: [11.11111111111111, 33.33333333333333, 100.0]\n",
      "[INFO][successive_halving.py:329] --- Bracket 3: [33.33333333333333, 100.0]\n",
      "[INFO][successive_halving.py:329] --- Bracket 4: [100.0]\n",
      "[INFO][smbo.py:320] Finished 50 trials.\n",
      "[INFO][smbo.py:320] Finished 100 trials.\n",
      "[INFO][abstract_intensifier.py:516] Added config 0389f7 as new incumbent because there are no incumbents yet.\n",
      "[INFO][smbo.py:320] Finished 150 trials.\n",
      "[INFO][abstract_intensifier.py:595] Added config 304884 and rejected config 0389f7 as incumbent because it is not better than the incumbents on 1 instances:\n",
      "[INFO][smbo.py:320] Finished 200 trials.\n",
      "[INFO][smbo.py:320] Finished 250 trials.\n",
      "[INFO][smbo.py:320] Finished 300 trials.\n",
      "[INFO][abstract_intensifier.py:595] Added config 573a72 and rejected config 304884 as incumbent because it is not better than the incumbents on 1 instances:\n",
      "[INFO][smbo.py:320] Finished 350 trials.\n",
      "[INFO][abstract_intensifier.py:595] Added config 5ab610 and rejected config 573a72 as incumbent because it is not better than the incumbents on 1 instances:\n",
      "[INFO][smbo.py:320] Finished 400 trials.\n",
      "[INFO][abstract_intensifier.py:595] Added config cc0406 and rejected config 5ab610 as incumbent because it is not better than the incumbents on 1 instances:\n",
      "[INFO][smbo.py:320] Finished 450 trials.\n",
      "[INFO][smbo.py:320] Finished 500 trials.\n",
      "[INFO][abstract_intensifier.py:595] Added config 3bf68d and rejected config cc0406 as incumbent because it is not better than the incumbents on 1 instances:\n",
      "[INFO][smbo.py:320] Finished 550 trials.\n",
      "[INFO][smbo.py:320] Finished 600 trials.\n",
      "[INFO][abstract_intensifier.py:595] Added config ff672e and rejected config 3bf68d as incumbent because it is not better than the incumbents on 1 instances:\n",
      "[INFO][abstract_intensifier.py:595] Added config b8626f and rejected config ff672e as incumbent because it is not better than the incumbents on 1 instances:\n",
      "[INFO][abstract_intensifier.py:595] Added config 9c6fc5 and rejected config b8626f as incumbent because it is not better than the incumbents on 1 instances:\n",
      "[INFO][abstract_intensifier.py:595] Added config 8401a4 and rejected config 9c6fc5 as incumbent because it is not better than the incumbents on 1 instances:\n",
      "[INFO][abstract_intensifier.py:595] Added config e9acd0 and rejected config 8401a4 as incumbent because it is not better than the incumbents on 1 instances:\n",
      "[INFO][abstract_intensifier.py:595] Added config f7645e and rejected config e9acd0 as incumbent because it is not better than the incumbents on 1 instances:\n",
      "[INFO][smbo.py:320] Finished 650 trials.\n",
      "[INFO][smbo.py:320] Finished 700 trials.\n",
      "[INFO][abstract_intensifier.py:595] Added config bbaea2 and rejected config f7645e as incumbent because it is not better than the incumbents on 1 instances:\n",
      "[INFO][smbo.py:320] Finished 750 trials.\n",
      "[INFO][abstract_intensifier.py:595] Added config 9974ea and rejected config bbaea2 as incumbent because it is not better than the incumbents on 1 instances:\n",
      "[INFO][smbo.py:320] Finished 800 trials.\n",
      "[INFO][smbo.py:320] Finished 850 trials.\n",
      "[INFO][smbo.py:320] Finished 900 trials.\n",
      "[INFO][smbo.py:320] Finished 950 trials.\n",
      "[INFO][smbo.py:320] Finished 1000 trials.\n",
      "[INFO][smbo.py:320] Finished 1050 trials.\n",
      "[INFO][smbo.py:320] Finished 1100 trials.\n",
      "[INFO][smbo.py:320] Finished 1150 trials.\n",
      "[INFO][abstract_intensifier.py:595] Added config 96b76d and rejected config 9974ea as incumbent because it is not better than the incumbents on 1 instances:\n",
      "[INFO][abstract_intensifier.py:595] Added config e94cd1 and rejected config 96b76d as incumbent because it is not better than the incumbents on 1 instances:\n",
      "[INFO][smbo.py:320] Finished 1200 trials.\n",
      "[INFO][abstract_intensifier.py:595] Added config 039230 and rejected config e94cd1 as incumbent because it is not better than the incumbents on 1 instances:\n",
      "[INFO][abstract_intensifier.py:595] Added config eddd38 and rejected config 039230 as incumbent because it is not better than the incumbents on 1 instances:\n",
      "[INFO][abstract_intensifier.py:595] Added config bfb0d4 and rejected config eddd38 as incumbent because it is not better than the incumbents on 1 instances:\n",
      "[INFO][smbo.py:320] Finished 1250 trials.\n",
      "[INFO][smbo.py:320] Finished 1300 trials.\n",
      "[INFO][smbo.py:320] Finished 1350 trials.\n",
      "[INFO][smbo.py:320] Finished 1400 trials.\n",
      "[INFO][abstract_intensifier.py:595] Added config 9bea38 and rejected config bfb0d4 as incumbent because it is not better than the incumbents on 1 instances:\n",
      "[INFO][smbo.py:320] Finished 1450 trials.\n",
      "[INFO][smbo.py:320] Finished 1500 trials.\n",
      "[INFO][smbo.py:320] Finished 1550 trials.\n",
      "[INFO][smbo.py:320] Finished 1600 trials.\n",
      "[INFO][abstract_intensifier.py:595] Added config dea67f and rejected config 9bea38 as incumbent because it is not better than the incumbents on 1 instances:\n",
      "[INFO][smbo.py:320] Finished 1650 trials.\n",
      "[INFO][smbo.py:320] Finished 1700 trials.\n",
      "[INFO][smbo.py:320] Finished 1750 trials.\n",
      "[INFO][abstract_intensifier.py:595] Added config 00e688 and rejected config dea67f as incumbent because it is not better than the incumbents on 1 instances:\n",
      "[INFO][smbo.py:320] Finished 1800 trials.\n",
      "[INFO][abstract_intensifier.py:595] Added config 60c405 and rejected config 00e688 as incumbent because it is not better than the incumbents on 1 instances:\n",
      "[INFO][abstract_intensifier.py:595] Added config 8c84b8 and rejected config 60c405 as incumbent because it is not better than the incumbents on 1 instances:\n",
      "[INFO][smbo.py:320] Finished 1850 trials.\n",
      "[INFO][smbo.py:328] Configuration budget is exhausted:\n",
      "[INFO][smbo.py:329] --- Remaining wallclock time: -1.9608452320098877\n",
      "[INFO][smbo.py:330] --- Remaining cpu time: inf\n",
      "[INFO][smbo.py:331] --- Remaining trials: inf\n",
      "WARNING: evaluating func at a repeat value of z (x = [9.42326782 2.47535744], z = 100)\n",
      "Branin BOCA\n",
      "Optimisation with mfbo-boca(ei-ucb-ttei-add_ucb) using capital 1000.0 (return_value)\n",
      "Capital spent on initialisation: 77.8003(0.0778).\n",
      "Legend: <iteration_number> (<num_successful_queries>, <fraction_of_capital_spent>):: curr_max=<current_maximum_value>, f2o=<#queries_at_highest_fidelity>(<#queries_at_highest_fidelity_in_last_20_iterations>), acqs=<num_times_each_acquisition_was_used>\n",
      "WARNING: evaluating func at a repeat value of z (x = [2.5 7.5], z = 1)\n",
      "WARNING: evaluating func at a repeat value of z (x = [9.99657064e+00 3.42935528e-03], z = 1)\n",
      "WARNING: evaluating func at a repeat value of z (x = [2.5 7.5], z = 1)\n",
      "WARNING: evaluating func at a repeat value of z (x = [2.5 7.5], z = 1)\n",
      "#013 (011, 0.088):: curr_max=-inf, #f2o=0(0/20), acqs=[ei:1, ucb:2, ttei:1, add_ucb:6], \n",
      "WARNING: evaluating func at a repeat value of z (x = [2.5 7.5], z = 1)\n",
      "WARNING: evaluating func at a repeat value of z (x = [2.5 7.5], z = 1)\n",
      "WARNING: evaluating func at a repeat value of z (x = [2.5 7.5], z = 1)\n",
      "#026 (024, 0.502):: curr_max=-2.28865, #f2o=4(4/20), acqs=[ei:6, ucb:2, ttei:6, add_ucb:9], \n",
      "WARNING: evaluating func at a repeat value of z (x = [-4.9999953 14.9999953], z = 100)\n",
      "#031 (030, 1.108):: curr_max=-2.18960, #f2o=10(10/20), acqs=[ei:10, ucb:4, ttei:6, add_ucb:9], \n",
      "WARNING: evaluating func at a repeat value of z (x = [9.9999953  2.50648238], z = 100)\n",
      "Branin RandomSearch\n",
      "WARNING: evaluating func at a repeat value of z (x = [-3.54113883 13.14671823], z = 100)\n",
      "Branin GridSearch\n",
      "100\n",
      "10\n",
      "WARNING: evaluating func at a repeat value of z (x = [3.33333333 1.66666667], z = 100)\n",
      "SimpleMixture SMAC\n",
      "[WARNING][target_function_runner.py:74] The argument n_vars is not set by SMAC: Consider removing it from the target function.\n",
      "[INFO][abstract_initial_design.py:147] Using 80 initial design configurations and 0 additional configurations.\n",
      "[INFO][successive_halving.py:164] Successive Halving uses budget type BUDGETS with eta 3, min budget 1, and max budget 30.\n",
      "[INFO][successive_halving.py:323] Number of configs in stage:\n",
      "[INFO][successive_halving.py:325] --- Bracket 0: [27, 9, 3, 1]\n",
      "[INFO][successive_halving.py:325] --- Bracket 1: [12, 4, 1]\n",
      "[INFO][successive_halving.py:325] --- Bracket 2: [6, 2]\n",
      "[INFO][successive_halving.py:325] --- Bracket 3: [4]\n",
      "[INFO][successive_halving.py:327] Budgets in stage:\n",
      "[INFO][successive_halving.py:329] --- Bracket 0: [1.1111111111111112, 3.333333333333333, 10.0, 30.0]\n",
      "[INFO][successive_halving.py:329] --- Bracket 1: [3.333333333333333, 10.0, 30.0]\n",
      "[INFO][successive_halving.py:329] --- Bracket 2: [10.0, 30.0]\n",
      "[INFO][successive_halving.py:329] --- Bracket 3: [30.0]\n",
      "[INFO][abstract_intensifier.py:516] Added config 493371 as new incumbent because there are no incumbents yet.\n",
      "[INFO][smbo.py:320] Finished 50 trials.\n",
      "[INFO][abstract_intensifier.py:595] Added config 31d08c and rejected config 493371 as incumbent because it is not better than the incumbents on 1 instances:\n",
      "[INFO][smbo.py:320] Finished 100 trials.\n",
      "[INFO][smbo.py:320] Finished 150 trials.\n",
      "[INFO][abstract_intensifier.py:595] Added config 14e0d0 and rejected config 31d08c as incumbent because it is not better than the incumbents on 1 instances:\n",
      "[INFO][abstract_intensifier.py:595] Added config 0698d1 and rejected config 14e0d0 as incumbent because it is not better than the incumbents on 1 instances:\n",
      "[INFO][smbo.py:320] Finished 200 trials.\n",
      "[INFO][abstract_intensifier.py:595] Added config 0363b0 and rejected config 0698d1 as incumbent because it is not better than the incumbents on 1 instances:\n",
      "[INFO][abstract_intensifier.py:595] Added config 9ef9e3 and rejected config 0363b0 as incumbent because it is not better than the incumbents on 1 instances:\n",
      "[INFO][smbo.py:320] Finished 250 trials.\n",
      "[INFO][abstract_intensifier.py:595] Added config 3fccfd and rejected config 9ef9e3 as incumbent because it is not better than the incumbents on 1 instances:\n",
      "[INFO][smbo.py:320] Finished 300 trials.\n",
      "[INFO][abstract_intensifier.py:595] Added config fea105 and rejected config 3fccfd as incumbent because it is not better than the incumbents on 1 instances:\n",
      "[INFO][smbo.py:320] Finished 350 trials.\n",
      "[INFO][abstract_intensifier.py:595] Added config 230a8c and rejected config fea105 as incumbent because it is not better than the incumbents on 1 instances:\n",
      "[INFO][smbo.py:320] Finished 400 trials.\n",
      "[INFO][smbo.py:320] Finished 450 trials.\n",
      "[INFO][smbo.py:320] Finished 500 trials.\n",
      "[INFO][smbo.py:320] Finished 550 trials.\n",
      "[INFO][abstract_intensifier.py:595] Added config b10321 and rejected config 230a8c as incumbent because it is not better than the incumbents on 1 instances:\n",
      "[INFO][smbo.py:320] Finished 600 trials.\n",
      "[INFO][smbo.py:320] Finished 650 trials.\n",
      "[INFO][abstract_intensifier.py:595] Added config fb3de2 and rejected config b10321 as incumbent because it is not better than the incumbents on 1 instances:\n",
      "[INFO][smbo.py:328] Configuration budget is exhausted:\n",
      "[INFO][smbo.py:329] --- Remaining wallclock time: -0.532055139541626\n",
      "[INFO][smbo.py:330] --- Remaining cpu time: inf\n",
      "[INFO][smbo.py:331] --- Remaining trials: inf\n",
      "WARNING: evaluating func at a repeat value of z (x = [0.15458420058366182, 0.2703097979110854, 0.2775741594547506, 0.26790475602606567, 0.004915814462752786, 0.015461856851730297, 0.005459616873372456, 0.003789797836581038], z = 30)\n",
      "SimpleMixture BOCA\n",
      "Optimisation with mfbo-boca(ei-ucb-ttei-add_ucb) using capital 1000.0 (return_value)\n",
      "Capital spent on initialisation: 52.1228(0.0521).\n",
      "Legend: <iteration_number> (<num_successful_queries>, <fraction_of_capital_spent>):: curr_max=<current_maximum_value>, f2o=<#queries_at_highest_fidelity>(<#queries_at_highest_fidelity_in_last_20_iterations>), acqs=<num_times_each_acquisition_was_used>\n",
      "#013 (011, 0.238):: curr_max=-53264.87233, #f2o=6(6/20), acqs=[ei:0, ucb:1, ttei:2, add_ucb:3], \n",
      "#026 (024, 0.641):: curr_max=-17963.56120, #f2o=19(19/20), acqs=[ei:2, ucb:5, ttei:3, add_ucb:9], \n",
      "#038 (037, 1.044):: curr_max=-17963.56120, #f2o=32(20/20), acqs=[ei:3, ucb:7, ttei:7, add_ucb:15], \n",
      "WARNING: evaluating func at a repeat value of z (x = [0.2125618481472253, 0.28656604848182826, 0.2882627938157786, 0.19846580998825333, 0.002948539968438172, 0.004645285302388504, 0.0030790588402805057, 0.0034706154558075053], z = 30)\n",
      "SimpleMixture RandomSearch\n",
      "WARNING: evaluating func at a repeat value of z (x = [0.24357267166644425, 0.12209275135465189, 0.2506023311075755, 0.16227791399130884, 0.02404271695072709, 0.05309302781879627, 0.13489425931615665, 0.009424327794339563], z = 30)\n",
      "SimpleMixture GridSearch\n",
      "333\n",
      "2\n",
      "WARNING: evaluating func at a repeat value of z (x = [0.125, 0.125, 0.125, 0.125, 0.125, 0.125, 0.125, 0.125], z = 30)\n",
      "WARNING: evaluating func at a repeat value of z (x = [0.24752475247524752, 0.24752475247524752, 0.24752475247524752, 0.24752475247524752, 0.0024752475247524753, 0.0024752475247524753, 0.0024752475247524753, 0.0024752475247524753], z = 30)\n",
      "Lemur SMAC\n",
      "[WARNING][target_function_runner.py:74] The argument n_vars is not set by SMAC: Consider removing it from the target function.\n",
      "[INFO][abstract_initial_design.py:147] Using 80 initial design configurations and 0 additional configurations.\n",
      "[INFO][successive_halving.py:164] Successive Halving uses budget type BUDGETS with eta 3, min budget 1, and max budget 50.\n",
      "[INFO][successive_halving.py:323] Number of configs in stage:\n",
      "[INFO][successive_halving.py:325] --- Bracket 0: [27, 9, 3, 1]\n",
      "[INFO][successive_halving.py:325] --- Bracket 1: [12, 4, 1]\n",
      "[INFO][successive_halving.py:325] --- Bracket 2: [6, 2]\n",
      "[INFO][successive_halving.py:325] --- Bracket 3: [4]\n",
      "[INFO][successive_halving.py:327] Budgets in stage:\n",
      "[INFO][successive_halving.py:329] --- Bracket 0: [1.8518518518518516, 5.555555555555555, 16.666666666666664, 50.0]\n",
      "[INFO][successive_halving.py:329] --- Bracket 1: [5.555555555555555, 16.666666666666664, 50.0]\n",
      "[INFO][successive_halving.py:329] --- Bracket 2: [16.666666666666664, 50.0]\n",
      "[INFO][successive_halving.py:329] --- Bracket 3: [50.0]\n",
      "[INFO][abstract_intensifier.py:516] Added config 18fb4e as new incumbent because there are no incumbents yet.\n",
      "[INFO][smbo.py:320] Finished 50 trials.\n",
      "[INFO][smbo.py:320] Finished 100 trials.\n",
      "[INFO][abstract_intensifier.py:595] Added config 9e2913 and rejected config 18fb4e as incumbent because it is not better than the incumbents on 1 instances:\n",
      "[INFO][smbo.py:320] Finished 150 trials.\n",
      "[INFO][abstract_intensifier.py:595] Added config 354850 and rejected config 9e2913 as incumbent because it is not better than the incumbents on 1 instances:\n",
      "[INFO][smbo.py:320] Finished 200 trials.\n",
      "[INFO][abstract_intensifier.py:595] Added config 6b9c10 and rejected config 354850 as incumbent because it is not better than the incumbents on 1 instances:\n",
      "[INFO][smbo.py:320] Finished 250 trials.\n",
      "[INFO][abstract_intensifier.py:595] Added config 98b726 and rejected config 6b9c10 as incumbent because it is not better than the incumbents on 1 instances:\n",
      "[INFO][abstract_intensifier.py:595] Added config 2c9413 and rejected config 98b726 as incumbent because it is not better than the incumbents on 1 instances:\n",
      "[INFO][smbo.py:320] Finished 300 trials.\n",
      "[INFO][abstract_intensifier.py:595] Added config 544a5f and rejected config 2c9413 as incumbent because it is not better than the incumbents on 1 instances:\n",
      "[INFO][smbo.py:320] Finished 350 trials.\n",
      "[INFO][abstract_intensifier.py:595] Added config 301e8e and rejected config 544a5f as incumbent because it is not better than the incumbents on 1 instances:\n",
      "[INFO][smbo.py:320] Finished 400 trials.\n",
      "[INFO][abstract_intensifier.py:595] Added config ed4333 and rejected config 301e8e as incumbent because it is not better than the incumbents on 1 instances:\n",
      "[INFO][smbo.py:320] Finished 450 trials.\n",
      "[INFO][abstract_intensifier.py:595] Added config 740c57 and rejected config ed4333 as incumbent because it is not better than the incumbents on 1 instances:\n",
      "[INFO][smbo.py:320] Finished 500 trials.\n",
      "[INFO][abstract_intensifier.py:595] Added config 13edfb and rejected config 740c57 as incumbent because it is not better than the incumbents on 1 instances:\n",
      "[INFO][smbo.py:320] Finished 550 trials.\n",
      "[INFO][smbo.py:320] Finished 600 trials.\n",
      "[INFO][smbo.py:320] Finished 650 trials.\n",
      "[INFO][abstract_intensifier.py:595] Added config 8d6a28 and rejected config 13edfb as incumbent because it is not better than the incumbents on 1 instances:\n",
      "[INFO][abstract_intensifier.py:595] Added config 7a1ebd and rejected config 8d6a28 as incumbent because it is not better than the incumbents on 1 instances:\n",
      "[INFO][smbo.py:320] Finished 700 trials.\n",
      "[INFO][smbo.py:320] Finished 750 trials.\n",
      "[INFO][smbo.py:320] Finished 800 trials.\n",
      "[INFO][abstract_intensifier.py:595] Added config 826122 and rejected config 7a1ebd as incumbent because it is not better than the incumbents on 1 instances:\n",
      "[INFO][smbo.py:320] Finished 850 trials.\n",
      "[INFO][abstract_intensifier.py:595] Added config d2c186 and rejected config 826122 as incumbent because it is not better than the incumbents on 1 instances:\n",
      "[INFO][abstract_intensifier.py:595] Added config 61dc70 and rejected config d2c186 as incumbent because it is not better than the incumbents on 1 instances:\n",
      "[INFO][smbo.py:328] Configuration budget is exhausted:\n",
      "[INFO][smbo.py:329] --- Remaining wallclock time: -0.7752912044525146\n",
      "[INFO][smbo.py:330] --- Remaining cpu time: inf\n",
      "[INFO][smbo.py:331] --- Remaining trials: inf\n",
      "WARNING: evaluating func at a repeat value of z (x = [99.97935675 44.565522   73.16193751 10.25366736  6.48361172  5.59662737\n",
      " 13.67812454  6.99581564], z = 50)\n",
      "Lemur BOCA\n",
      "Optimisation with mfbo-boca(ei-ucb-ttei-add_ucb) using capital 1000.0 (return_value)\n",
      "Capital spent on initialisation: 48.3602(0.0484).\n",
      "Legend: <iteration_number> (<num_successful_queries>, <fraction_of_capital_spent>):: curr_max=<current_maximum_value>, f2o=<#queries_at_highest_fidelity>(<#queries_at_highest_fidelity_in_last_20_iterations>), acqs=<num_times_each_acquisition_was_used>\n",
      "#013 (011, 0.407):: curr_max=-90.74934, #f2o=7(7/20), acqs=[ei:3, ucb:1, ttei:3, add_ucb:2], \n",
      "#025 (024, 1.070):: curr_max=-73.87329, #f2o=20(20/20), acqs=[ei:6, ucb:3, ttei:7, add_ucb:6], \n",
      "WARNING: evaluating func at a repeat value of z (x = [99.38888889 99.38888889 98.16666667 67.61111111  1.61111111  1.00251486\n",
      "  1.00251486  2.83333333], z = 50)\n",
      "Lemur RandomSearch\n",
      "WARNING: evaluating func at a repeat value of z (x = [98.50998737 44.39417102 74.20340965 68.54038955 11.13392675  3.8770955\n",
      " 14.8145649  13.64633273], z = 50)\n",
      "Lemur GridSearch\n",
      "200\n",
      "2\n",
      "WARNING: evaluating func at a repeat value of z (x = [100. 100. 100.   1.   1.   1. 100.   1.], z = 50)\n"
     ]
    }
   ],
   "source": [
    "out = {}\n",
    "\n",
    "for b in benchmarks:\n",
    "    for o in optimizers:\n",
    "        print(b, o)\n",
    "\n",
    "        if o == 'SMAC':\n",
    "            max_time = smac_times[b]\n",
    "        elif o == 'BOCA':\n",
    "            max_time = 1000\n",
    "        else:\n",
    "            max_time = 1000\n",
    "        \n",
    "        benchmark = benchmarks[b]()\n",
    "\n",
    "        out[(b,o)] = optimizers[o](benchmark.func, benchmark.search_space, benchmark.budget_space, max_time).minimize()"
   ]
  },
  {
   "cell_type": "code",
   "execution_count": 12,
   "metadata": {},
   "outputs": [
    {
     "name": "stdout",
     "output_type": "stream",
     "text": [
      "('Branin', 'SMAC')\n",
      "22250\n",
      "---\n",
      "('SimpleMixture', 'SMAC')\n",
      "4726\n",
      "---\n",
      "('Lemur', 'SMAC')\n",
      "10028\n",
      "---\n"
     ]
    }
   ],
   "source": [
    "for i in out:\n",
    "    if i[1] == 'SMAC':\n",
    "        print(i)\n",
    "        print(out[i][2].z.sum())\n",
    "        print('---')"
   ]
  },
  {
   "cell_type": "code",
   "execution_count": 16,
   "metadata": {},
   "outputs": [
    {
     "data": {
      "text/plain": [
       "5.983246908655764"
      ]
     },
     "execution_count": 16,
     "metadata": {},
     "output_type": "execute_result"
    }
   ],
   "source": [
    "1000/(10028/60)"
   ]
  },
  {
   "cell_type": "code",
   "execution_count": null,
   "metadata": {},
   "outputs": [],
   "source": []
  },
  {
   "cell_type": "code",
   "execution_count": null,
   "metadata": {},
   "outputs": [],
   "source": []
  },
  {
   "cell_type": "code",
   "execution_count": null,
   "metadata": {},
   "outputs": [],
   "source": []
  },
  {
   "cell_type": "code",
   "execution_count": 11,
   "metadata": {},
   "outputs": [
    {
     "data": {
      "text/plain": [
       "12800"
      ]
     },
     "execution_count": 11,
     "metadata": {},
     "output_type": "execute_result"
    }
   ],
   "source": [
    "kkk[2].z.sum()"
   ]
  },
  {
   "cell_type": "code",
   "execution_count": 16,
   "metadata": {},
   "outputs": [
    {
     "data": {
      "text/html": [
       "<div>\n",
       "<style scoped>\n",
       "    .dataframe tbody tr th:only-of-type {\n",
       "        vertical-align: middle;\n",
       "    }\n",
       "\n",
       "    .dataframe tbody tr th {\n",
       "        vertical-align: top;\n",
       "    }\n",
       "\n",
       "    .dataframe thead th {\n",
       "        text-align: right;\n",
       "    }\n",
       "</style>\n",
       "<table border=\"1\" class=\"dataframe\">\n",
       "  <thead>\n",
       "    <tr style=\"text-align: right;\">\n",
       "      <th></th>\n",
       "      <th>z</th>\n",
       "      <th>func</th>\n",
       "      <th>history</th>\n",
       "      <th>x</th>\n",
       "    </tr>\n",
       "  </thead>\n",
       "  <tbody>\n",
       "    <tr>\n",
       "      <th>0</th>\n",
       "      <td>50</td>\n",
       "      <td>96.913601</td>\n",
       "      <td>[[1, 980.7924721615728], [2, 642.9488525434158...</td>\n",
       "      <td>1.0|1.0|1.0|1.0|1.0|1.0|1.0|1.0</td>\n",
       "    </tr>\n",
       "  </tbody>\n",
       "</table>\n",
       "</div>"
      ],
      "text/plain": [
       "    z       func                                            history  \\\n",
       "0  50  96.913601  [[1, 980.7924721615728], [2, 642.9488525434158...   \n",
       "\n",
       "                                 x  \n",
       "0  1.0|1.0|1.0|1.0|1.0|1.0|1.0|1.0  "
      ]
     },
     "execution_count": 16,
     "metadata": {},
     "output_type": "execute_result"
    }
   ],
   "source": [
    "kkk[2]"
   ]
  },
  {
   "cell_type": "code",
   "execution_count": 12,
   "metadata": {},
   "outputs": [
    {
     "name": "stdout",
     "output_type": "stream",
     "text": [
      "('Branin', 'SMAC')\n",
      "22250\n",
      "----\n",
      "('Branin', 'BOCA')\n",
      "1124\n",
      "----\n",
      "('Branin', 'RandomSearch')\n",
      "1000\n",
      "----\n",
      "('Branin', 'GridSearch')\n",
      "900\n",
      "----\n",
      "('SimpleMixture', 'SMAC')\n",
      "4726\n",
      "----\n",
      "('SimpleMixture', 'BOCA')\n",
      "1009\n",
      "----\n",
      "('SimpleMixture', 'RandomSearch')\n",
      "990\n",
      "----\n",
      "('SimpleMixture', 'GridSearch')\n",
      "7680\n",
      "----\n",
      "('Lemur', 'SMAC')\n",
      "10415\n",
      "----\n",
      "('Lemur', 'BOCA')\n",
      "1051\n",
      "----\n",
      "('Lemur', 'RandomSearch')\n",
      "1000\n",
      "----\n",
      "('Lemur', 'GridSearch')\n",
      "50\n",
      "----\n"
     ]
    }
   ],
   "source": [
    "for i in out:\n",
    "    print(i)\n",
    "    print(out[i][2].z.sum())\n",
    "    print('----')"
   ]
  },
  {
   "cell_type": "code",
   "execution_count": 14,
   "metadata": {},
   "outputs": [
    {
     "data": {
      "text/html": [
       "<div>\n",
       "<style scoped>\n",
       "    .dataframe tbody tr th:only-of-type {\n",
       "        vertical-align: middle;\n",
       "    }\n",
       "\n",
       "    .dataframe tbody tr th {\n",
       "        vertical-align: top;\n",
       "    }\n",
       "\n",
       "    .dataframe thead th {\n",
       "        text-align: right;\n",
       "    }\n",
       "</style>\n",
       "<table border=\"1\" class=\"dataframe\">\n",
       "  <thead>\n",
       "    <tr style=\"text-align: right;\">\n",
       "      <th></th>\n",
       "      <th>z</th>\n",
       "      <th>func</th>\n",
       "      <th>history</th>\n",
       "      <th>x</th>\n",
       "    </tr>\n",
       "  </thead>\n",
       "  <tbody>\n",
       "    <tr>\n",
       "      <th>0</th>\n",
       "      <td>50</td>\n",
       "      <td>96.913601</td>\n",
       "      <td>[[1, 980.7924721615728], [2, 642.9488525434158...</td>\n",
       "      <td>1.0|1.0|1.0|1.0|1.0|1.0|1.0|1.0</td>\n",
       "    </tr>\n",
       "  </tbody>\n",
       "</table>\n",
       "</div>"
      ],
      "text/plain": [
       "    z       func                                            history  \\\n",
       "0  50  96.913601  [[1, 980.7924721615728], [2, 642.9488525434158...   \n",
       "\n",
       "                                 x  \n",
       "0  1.0|1.0|1.0|1.0|1.0|1.0|1.0|1.0  "
      ]
     },
     "execution_count": 14,
     "metadata": {},
     "output_type": "execute_result"
    }
   ],
   "source": [
    "out[('Lemur', 'GridSearch')][2]"
   ]
  },
  {
   "cell_type": "code",
   "execution_count": 2,
   "metadata": {},
   "outputs": [],
   "source": [
    "#ll = benchmarks.BraninBenchmark()\n",
    "#ll = benchmarks.SimpleMixtureBenchmark()\n",
    "ll = benchmarks.LemurBenchmark()"
   ]
  },
  {
   "cell_type": "code",
   "execution_count": 3,
   "metadata": {},
   "outputs": [
    {
     "name": "stdout",
     "output_type": "stream",
     "text": [
      "[WARNING][target_function_runner.py:74] The argument n_vars is not set by SMAC: Consider removing it from the target function.\n",
      "[INFO][abstract_initial_design.py:147] Using 80 initial design configurations and 0 additional configurations.\n",
      "[INFO][successive_halving.py:164] Successive Halving uses budget type BUDGETS with eta 3, min budget 1, and max budget 50.\n",
      "[INFO][successive_halving.py:323] Number of configs in stage:\n",
      "[INFO][successive_halving.py:325] --- Bracket 0: [27, 9, 3, 1]\n",
      "[INFO][successive_halving.py:325] --- Bracket 1: [12, 4, 1]\n",
      "[INFO][successive_halving.py:325] --- Bracket 2: [6, 2]\n",
      "[INFO][successive_halving.py:325] --- Bracket 3: [4]\n",
      "[INFO][successive_halving.py:327] Budgets in stage:\n",
      "[INFO][successive_halving.py:329] --- Bracket 0: [1.8518518518518516, 5.555555555555555, 16.666666666666664, 50.0]\n",
      "[INFO][successive_halving.py:329] --- Bracket 1: [5.555555555555555, 16.666666666666664, 50.0]\n",
      "[INFO][successive_halving.py:329] --- Bracket 2: [16.666666666666664, 50.0]\n",
      "[INFO][successive_halving.py:329] --- Bracket 3: [50.0]\n",
      "[INFO][abstract_intensifier.py:516] Added config 18fb4e as new incumbent because there are no incumbents yet.\n",
      "[INFO][smbo.py:320] Finished 50 trials.\n",
      "[INFO][smbo.py:320] Finished 100 trials.\n",
      "[INFO][abstract_intensifier.py:595] Added config 9e2913 and rejected config 18fb4e as incumbent because it is not better than the incumbents on 1 instances:\n",
      "[INFO][smbo.py:320] Finished 150 trials.\n",
      "[INFO][abstract_intensifier.py:595] Added config 354850 and rejected config 9e2913 as incumbent because it is not better than the incumbents on 1 instances:\n",
      "[INFO][smbo.py:320] Finished 200 trials.\n",
      "[INFO][abstract_intensifier.py:595] Added config 6b9c10 and rejected config 354850 as incumbent because it is not better than the incumbents on 1 instances:\n",
      "[INFO][smbo.py:320] Finished 250 trials.\n",
      "[INFO][abstract_intensifier.py:595] Added config 98b726 and rejected config 6b9c10 as incumbent because it is not better than the incumbents on 1 instances:\n",
      "[INFO][abstract_intensifier.py:595] Added config 2c9413 and rejected config 98b726 as incumbent because it is not better than the incumbents on 1 instances:\n",
      "[INFO][smbo.py:320] Finished 300 trials.\n",
      "[INFO][smbo.py:328] Configuration budget is exhausted:\n",
      "[INFO][smbo.py:329] --- Remaining wallclock time: -1.0483040809631348\n",
      "[INFO][smbo.py:330] --- Remaining cpu time: inf\n",
      "[INFO][smbo.py:331] --- Remaining trials: inf\n",
      "WARNING: evaluating func at a repeat value of z (x = [99.41044984 63.59842833 73.26064687  7.70773414 19.79242471 10.02612418\n",
      "  2.5583907  10.15931512], z = 50)\n"
     ]
    }
   ],
   "source": [
    "#aa = optimizers.BOCAOptimizer(ll.func, ll.search_space, ll.budget_space, 1000).minimize()\n",
    "bb = optimizers.SMACOptimizer(ll.func, ll.search_space, ll.budget_space, 10).minimize()"
   ]
  },
  {
   "cell_type": "code",
   "execution_count": 4,
   "metadata": {},
   "outputs": [],
   "source": [
    "%matplotlib qt\n",
    "\n",
    "df = bb[2].copy()\n",
    "best_obj = bb[1]\n",
    "\n",
    "df_exploded = df.explode('history').reset_index(drop=True)\n",
    "df_exploded['obj'] = df_exploded.history.str[1].astype(float)\n",
    "\n",
    "fig, ax = plt.subplots(figsize=(12, 8))\n",
    "\n",
    "df_exploded.obj.cummin().plot(linewidth=0, marker='o', markersize=3, fillstyle='none', color='red')\n",
    "\n",
    "for this_group, this_df in df_exploded.groupby('x'):\n",
    "    plt.plot(this_df.index, this_df.obj, marker='x', markersize=3, linestyle='-', linewidth=0.3, color='black')\n",
    "\n",
    "plt.yscale('log')\n",
    "\n",
    "plt.title(f'Connected lines correspond to a evaluations\\nfor a single value of x at different fidelities\\n(Minimum thus far in red; final minimum: {round(best_obj, 3)})')\n",
    "plt.xlabel('Function evaluation number')\n",
    "plt.ylabel('Function value (log scale)')\n",
    "\n",
    "sns.despine()\n",
    "\n",
    "#plt.ylim(-0.4, -0.3)\n",
    "#plt.xlim(5000, 6000)"
   ]
  },
  {
   "cell_type": "code",
   "execution_count": 1,
   "metadata": {},
   "outputs": [],
   "source": [
    "import optimizers\n",
    "import matplotlib.pyplot as plt\n",
    "import seaborn as sns"
   ]
  },
  {
   "cell_type": "code",
   "execution_count": 2,
   "metadata": {},
   "outputs": [],
   "source": [
    "m = {}\n",
    "\n",
    "a = -2/19\n",
    "b = -1 - a\n",
    "\n",
    "def ffunc(z, x):\n",
    "    res = (x[0]**4) - (x[0]**2) + (0.1 * x[0]) + 1\n",
    "    z_factor = (27 * (3 ** (a*z+b)))\n",
    "    return res * z_factor\n",
    "\n",
    "def func(z, x):\n",
    "    global m\n",
    "\n",
    "    x_s = str(x)\n",
    "\n",
    "    if x_s not in m:\n",
    "        z_start = 0\n",
    "    else:\n",
    "        z_start = m[x_s][0]\n",
    "    \n",
    "    if z_start == z:\n",
    "        print(f'WARNING: evaluating func at a repeat value of z (x = {x}, z = {z})')\n",
    "        return [m[x_s]]\n",
    "\n",
    "    out = [[zz, ffunc(zz, x)] for zz in range(z_start+1, z+1)]\n",
    "\n",
    "    m[x_s] = out[-1]\n",
    "\n",
    "    return out\n"
   ]
  },
  {
   "cell_type": "code",
   "execution_count": 4,
   "metadata": {},
   "outputs": [
    {
     "name": "stdout",
     "output_type": "stream",
     "text": [
      "WARNING: evaluating func at a repeat value of z (x = [-0.6122449], z = 20)\n"
     ]
    }
   ],
   "source": [
    "#aa = optimizers.SMACOptimizer(func, [[-10, 10]], [1, 20], 2).minimize()\n",
    "#aa = optimizers.BOCAOptimizer(func, [[-10, 10]], [1, 20], 1000).minimize()\n",
    "#aa = optimizers.RandomOptimizer(func, [[-10, 10]], [1, 20], int(1000/20)).minimize()\n",
    "aa = optimizers.GridOptimizer(func, [[-10, 10]], [1, 20], int(1000/20)).minimize()"
   ]
  },
  {
   "cell_type": "code",
   "execution_count": 5,
   "metadata": {},
   "outputs": [],
   "source": []
  },
  {
   "cell_type": "code",
   "execution_count": 6,
   "metadata": {},
   "outputs": [
    {
     "data": {
      "text/plain": [
       "\"\\nfor this_group, this_df in df.groupby('x0'):\\n    for i in range(len(this_df)):\\n        assert len(this_df.history.iloc[i]) == this_df.z.iloc[i] - (this_df.z.iloc[i-1] if i > 0 else 0)\\n\""
      ]
     },
     "execution_count": 6,
     "metadata": {},
     "output_type": "execute_result"
    }
   ],
   "source": [
    "'''\n",
    "for this_group, this_df in df.groupby('x0'):\n",
    "    for i in range(len(this_df)):\n",
    "        assert len(this_df.history.iloc[i]) == this_df.z.iloc[i] - (this_df.z.iloc[i-1] if i > 0 else 0)\n",
    "'''"
   ]
  },
  {
   "cell_type": "code",
   "execution_count": 7,
   "metadata": {},
   "outputs": [],
   "source": []
  },
  {
   "cell_type": "code",
   "execution_count": 8,
   "metadata": {},
   "outputs": [],
   "source": []
  },
  {
   "cell_type": "code",
   "execution_count": null,
   "metadata": {},
   "outputs": [],
   "source": []
  },
  {
   "cell_type": "code",
   "execution_count": null,
   "metadata": {},
   "outputs": [],
   "source": []
  }
 ],
 "metadata": {
  "kernelspec": {
   "display_name": "Python 3",
   "language": "python",
   "name": "python3"
  },
  "language_info": {
   "codemirror_mode": {
    "name": "ipython",
    "version": 3
   },
   "file_extension": ".py",
   "mimetype": "text/x-python",
   "name": "python",
   "nbconvert_exporter": "python",
   "pygments_lexer": "ipython3",
   "version": "3.8.19"
  }
 },
 "nbformat": 4,
 "nbformat_minor": 2
}
